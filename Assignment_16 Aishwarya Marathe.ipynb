{
 "cells": [
  {
   "cell_type": "markdown",
   "id": "1bd9b1eb-6962-43b1-8cd3-effe25584b44",
   "metadata": {},
   "source": [
    "1. **Create a list called years_list, starting with the year of your birth, and each year thereafter until the year of your fifth birthday. For example, if you were born in 1980. the list would be years_list = [1980, 1981, 1982, 1983, 1984, 1985].**"
   ]
  },
  {
   "cell_type": "code",
   "execution_count": 1,
   "id": "37b14a82-fb95-4871-9b8a-485967342255",
   "metadata": {},
   "outputs": [],
   "source": [
    "years_list = [1995, 1996, 1997, 1998, 1999, 2000]"
   ]
  },
  {
   "cell_type": "markdown",
   "id": "57ac87a8-a213-4968-b7fb-4e900cb6973f",
   "metadata": {},
   "source": [
    "2. **In which year in years_list was your third birthday? Remember, you were 0 years of age for your first year.**"
   ]
  },
  {
   "cell_type": "code",
   "execution_count": 2,
   "id": "6337ac2a-c5ad-4527-98db-69d06baea66a",
   "metadata": {},
   "outputs": [
    {
     "data": {
      "text/plain": [
       "1998"
      ]
     },
     "execution_count": 2,
     "metadata": {},
     "output_type": "execute_result"
    }
   ],
   "source": [
    "years_list[3] #index starts from 0,1,2,3 hence 3 means the 3rd year"
   ]
  },
  {
   "cell_type": "markdown",
   "id": "17197848-d338-4e5f-9f74-5026f041763e",
   "metadata": {},
   "source": [
    "3. **In the years list, which year were you the oldest?**"
   ]
  },
  {
   "cell_type": "code",
   "execution_count": 3,
   "id": "4ad37180-580e-4b7f-ab1b-4f95f204cb6b",
   "metadata": {},
   "outputs": [
    {
     "data": {
      "text/plain": [
       "2000"
      ]
     },
     "execution_count": 3,
     "metadata": {},
     "output_type": "execute_result"
    }
   ],
   "source": [
    "years_list[-1] #last year in the list"
   ]
  },
  {
   "cell_type": "markdown",
   "id": "f124e0d6-17f5-496e-8010-b742fcdc6ad7",
   "metadata": {},
   "source": [
    "4. **Make a list called things with these three strings as elements: 'mozzarella', 'cinderella', 'salmonella'.**"
   ]
  },
  {
   "cell_type": "code",
   "execution_count": 4,
   "id": "31fb290c-1ac4-4e96-ac48-5db342414a71",
   "metadata": {},
   "outputs": [],
   "source": [
    "l1 = ['mozzarella', 'cinderella', 'salmonella']"
   ]
  },
  {
   "cell_type": "markdown",
   "id": "498f44f9-77f3-450d-9193-53e3d6fcac8b",
   "metadata": {},
   "source": [
    "5. **Capitalize the element in things that refers to a person and then print the list. Did it change the element in the list?**"
   ]
  },
  {
   "cell_type": "code",
   "execution_count": 5,
   "id": "67a14cfc-2f9e-47a4-94ab-269fc2fc5c7e",
   "metadata": {},
   "outputs": [
    {
     "data": {
      "text/plain": [
       "['mozzarella', 'cinderella', 'salmonella']"
      ]
     },
     "execution_count": 5,
     "metadata": {},
     "output_type": "execute_result"
    }
   ],
   "source": [
    "l1[1].capitalize()\n",
    "l1 #Does not change the element in the list"
   ]
  },
  {
   "cell_type": "code",
   "execution_count": 6,
   "id": "60e15c0c-ca32-4d13-8fdd-772298dd0571",
   "metadata": {},
   "outputs": [
    {
     "data": {
      "text/plain": [
       "['mozzarella', 'Cinderella', 'salmonella']"
      ]
     },
     "execution_count": 6,
     "metadata": {},
     "output_type": "execute_result"
    }
   ],
   "source": [
    "#To change, we'll need to assign it back to the list\n",
    "l1[1] = l1[1].capitalize()\n",
    "l1 #element in list is updated"
   ]
  },
  {
   "cell_type": "markdown",
   "id": "f0ff91fc-17d9-40ab-80cf-f80d9c006674",
   "metadata": {},
   "source": [
    "6. **Make a surprise list with the elements 'Groucho' 'Chico' and 'Harpo'**"
   ]
  },
  {
   "cell_type": "code",
   "execution_count": 7,
   "id": "abc9cb7b-5039-4965-91f1-66139ebddc86",
   "metadata": {},
   "outputs": [
    {
     "data": {
      "text/plain": [
       "['Groucho', 'Chico', 'Harpo']"
      ]
     },
     "execution_count": 7,
     "metadata": {},
     "output_type": "execute_result"
    }
   ],
   "source": [
    "surprise = ['Groucho', 'Chico','Harpo']\n",
    "surprise"
   ]
  },
  {
   "cell_type": "markdown",
   "id": "cc8cb04d-9818-4ecc-b226-5db58d4e0671",
   "metadata": {},
   "source": [
    "7. **Lowercase the last element of the surprise list, reverse it, and then capitalize it.**"
   ]
  },
  {
   "cell_type": "code",
   "execution_count": 8,
   "id": "82cb9662-370a-4a47-8a51-b80f73de87f2",
   "metadata": {},
   "outputs": [
    {
     "data": {
      "text/plain": [
       "'Harpo'"
      ]
     },
     "execution_count": 8,
     "metadata": {},
     "output_type": "execute_result"
    }
   ],
   "source": [
    "surprise[-1].lower() #lowercase last element\n",
    "surprise[-1][::-1] #reverse last element\n",
    "surprise[-1].capitalize() #capitalize last element"
   ]
  },
  {
   "cell_type": "markdown",
   "id": "9ef57edd-53f3-473f-94d1-9c9b4394e041",
   "metadata": {},
   "source": [
    "8. **Make an English-to-French dictionary called e2f and print it. Here are your starter words: dog is chien, cat is chat, and walrus is morse.**"
   ]
  },
  {
   "cell_type": "code",
   "execution_count": 9,
   "id": "06134c45-b206-449c-9403-2d044e50959e",
   "metadata": {},
   "outputs": [
    {
     "data": {
      "text/plain": [
       "{'dog': 'chien', 'cat': 'chat', 'walrus': 'morse'}"
      ]
     },
     "execution_count": 9,
     "metadata": {},
     "output_type": "execute_result"
    }
   ],
   "source": [
    "e2f = {'dog' : 'chien','cat' : 'chat','walrus' : 'morse'}\n",
    "e2f"
   ]
  },
  {
   "cell_type": "markdown",
   "id": "c0ee3b11-9be6-4d2c-ae9e-47876cd09504",
   "metadata": {},
   "source": [
    "9. **Write the French word for walrus in your three-word dictionary e2f.**"
   ]
  },
  {
   "cell_type": "code",
   "execution_count": 10,
   "id": "fe63a964-5862-4bfa-baf8-c3fb5388c880",
   "metadata": {},
   "outputs": [
    {
     "data": {
      "text/plain": [
       "'morse'"
      ]
     },
     "execution_count": 10,
     "metadata": {},
     "output_type": "execute_result"
    }
   ],
   "source": [
    "e2f['walrus']"
   ]
  },
  {
   "cell_type": "markdown",
   "id": "a4442d9d-540c-4b48-8d3a-6b70ba67af2f",
   "metadata": {},
   "source": [
    "10. **Make a French-to-English dictionary called f2e from e2f. Use the items method.**"
   ]
  },
  {
   "cell_type": "code",
   "execution_count": 11,
   "id": "2fc90850-ed4c-485f-b7ac-c30c0e0c36f1",
   "metadata": {},
   "outputs": [
    {
     "data": {
      "text/plain": [
       "{'chien': 'dog', 'chat': 'cat', 'morse': 'walrus'}"
      ]
     },
     "execution_count": 11,
     "metadata": {},
     "output_type": "execute_result"
    }
   ],
   "source": [
    "f2e={}\n",
    "for english,french in e2f.items():\n",
    "    f2e[french]=english\n",
    "\n",
    "f2e"
   ]
  },
  {
   "cell_type": "markdown",
   "id": "148778d9-6ff4-4834-96e6-4be95ff6cc20",
   "metadata": {},
   "source": [
    "11. **Print the English version of the French word chien using f2e.**"
   ]
  },
  {
   "cell_type": "code",
   "execution_count": 12,
   "id": "276d8b97-7f9f-4886-8676-ce293d186ea6",
   "metadata": {},
   "outputs": [
    {
     "data": {
      "text/plain": [
       "'dog'"
      ]
     },
     "execution_count": 12,
     "metadata": {},
     "output_type": "execute_result"
    }
   ],
   "source": [
    "f2e['chien']"
   ]
  },
  {
   "cell_type": "markdown",
   "id": "03b76dcf-2e5b-45eb-8e1c-dfa04961f0db",
   "metadata": {},
   "source": [
    "12. **Make and print a set of English words from the keys in e2f.**"
   ]
  },
  {
   "cell_type": "code",
   "execution_count": 13,
   "id": "79af7ce6-a30a-48e9-b561-7cf771c0ee60",
   "metadata": {},
   "outputs": [
    {
     "data": {
      "text/plain": [
       "{'cat', 'dog', 'walrus'}"
      ]
     },
     "execution_count": 13,
     "metadata": {},
     "output_type": "execute_result"
    }
   ],
   "source": [
    "set(e2f.keys())"
   ]
  },
  {
   "cell_type": "markdown",
   "id": "4bb46dcc-84ab-4b50-a2b3-e00c67f88503",
   "metadata": {},
   "source": [
    "13. **Make a multilevel dictionary called life. Use these strings for the topmost keys: ‘animals’, ‘plants’, and ‘other’. Make the ‘animals’ key refer to another dictionary with the keys ‘cats’, ‘octopi’, and ‘emus’. Make the ‘cats’ key refer to a list of strings with the values ‘Henri’, ‘Grumpy’, and ‘Lucy’. Make all the other keys refer to empty dictionaries.**"
   ]
  },
  {
   "cell_type": "code",
   "execution_count": 14,
   "id": "b946659f-d9d4-46bd-917a-854ebadc33e9",
   "metadata": {},
   "outputs": [
    {
     "data": {
      "text/plain": [
       "{'animals': {'cats': ['Henri', 'Grumpy', 'Lucy'], 'octopi': {}, 'emus': {}},\n",
       " 'plants': {},\n",
       " 'others': {}}"
      ]
     },
     "execution_count": 14,
     "metadata": {},
     "output_type": "execute_result"
    }
   ],
   "source": [
    "life = {\n",
    "        'animals' : {\n",
    "            'cats' : ['Henri' , 'Grumpy', 'Lucy'],\n",
    "            'octopi':{},\n",
    "            'emus':{}\n",
    "        },\n",
    "    'plants':{},\n",
    "    'others':{}\n",
    "}\n",
    "\n",
    "life"
   ]
  },
  {
   "cell_type": "markdown",
   "id": "3baa5c69-c7a3-4a4a-a0c4-1bf7837e34ca",
   "metadata": {},
   "source": [
    "14. **Print the top-level keys of life.**"
   ]
  },
  {
   "cell_type": "code",
   "execution_count": 15,
   "id": "1bc3011e-3287-4686-9acd-2a83c093f4f4",
   "metadata": {},
   "outputs": [
    {
     "name": "stdout",
     "output_type": "stream",
     "text": [
      "dict_keys(['animals', 'plants', 'others'])\n"
     ]
    }
   ],
   "source": [
    "print(life.keys())"
   ]
  },
  {
   "cell_type": "markdown",
   "id": "186e05fa-1cde-450a-9e29-352447525730",
   "metadata": {},
   "source": [
    "15. **Print the keys for life['animals'].**"
   ]
  },
  {
   "cell_type": "code",
   "execution_count": 16,
   "id": "ea288632-180d-4c1f-a10a-c75dd90cac0a",
   "metadata": {},
   "outputs": [
    {
     "name": "stdout",
     "output_type": "stream",
     "text": [
      "dict_keys(['cats', 'octopi', 'emus'])\n"
     ]
    }
   ],
   "source": [
    "print(life['animals'].keys())"
   ]
  },
  {
   "cell_type": "markdown",
   "id": "ca9d81b1-9307-42a2-a3bd-e719d011ec21",
   "metadata": {},
   "source": [
    "16. **Print the values for life['animals']['cats']**"
   ]
  },
  {
   "cell_type": "code",
   "execution_count": 17,
   "id": "d05f2223-8380-4713-b8f4-652f18914cea",
   "metadata": {},
   "outputs": [
    {
     "data": {
      "text/plain": [
       "['Henri', 'Grumpy', 'Lucy']"
      ]
     },
     "execution_count": 17,
     "metadata": {},
     "output_type": "execute_result"
    }
   ],
   "source": [
    "life['animals']['cats']"
   ]
  }
 ],
 "metadata": {
  "kernelspec": {
   "display_name": "Python 3 (ipykernel)",
   "language": "python",
   "name": "python3"
  },
  "language_info": {
   "codemirror_mode": {
    "name": "ipython",
    "version": 3
   },
   "file_extension": ".py",
   "mimetype": "text/x-python",
   "name": "python",
   "nbconvert_exporter": "python",
   "pygments_lexer": "ipython3",
   "version": "3.9.7"
  },
  "nbTranslate": {
   "displayLangs": [
    "*"
   ],
   "hotkey": "alt-t",
   "langInMainMenu": true,
   "sourceLang": "en",
   "targetLang": "fr",
   "useGoogleTranslate": true
  },
  "toc": {
   "base_numbering": 1,
   "nav_menu": {},
   "number_sections": true,
   "sideBar": true,
   "skip_h1_title": false,
   "title_cell": "Table of Contents",
   "title_sidebar": "Contents",
   "toc_cell": false,
   "toc_position": {},
   "toc_section_display": true,
   "toc_window_display": false
  },
  "varInspector": {
   "cols": {
    "lenName": 16,
    "lenType": 16,
    "lenVar": 40
   },
   "kernels_config": {
    "python": {
     "delete_cmd_postfix": "",
     "delete_cmd_prefix": "del ",
     "library": "var_list.py",
     "varRefreshCmd": "print(var_dic_list())"
    },
    "r": {
     "delete_cmd_postfix": ") ",
     "delete_cmd_prefix": "rm(",
     "library": "var_list.r",
     "varRefreshCmd": "cat(var_dic_list()) "
    }
   },
   "types_to_exclude": [
    "module",
    "function",
    "builtin_function_or_method",
    "instance",
    "_Feature"
   ],
   "window_display": false
  }
 },
 "nbformat": 4,
 "nbformat_minor": 5
}
