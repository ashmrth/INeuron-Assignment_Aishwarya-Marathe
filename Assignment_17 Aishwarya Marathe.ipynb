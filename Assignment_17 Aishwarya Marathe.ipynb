{
 "cells": [
  {
   "cell_type": "markdown",
   "id": "2ffda920-af79-439d-966b-b1f926f844a1",
   "metadata": {},
   "source": [
    "1.**Assign the value 7 to the variable guess_me. Then, write the conditional tests (if, else, and elif) to print the string 'too low' if guess_me is less than 7, 'too high' if greater than 7, and 'just right' if equal to 7.**"
   ]
  },
  {
   "cell_type": "code",
   "execution_count": 1,
   "id": "237fc52a-f2ca-4fbc-900c-51ae56103e30",
   "metadata": {},
   "outputs": [
    {
     "name": "stdout",
     "output_type": "stream",
     "text": [
      "just right\n"
     ]
    }
   ],
   "source": [
    "guess_me = 7\n",
    "if guess_me < 7:\n",
    "    print(\"too low\")\n",
    "elif guess_me > 7:\n",
    "    print(\"too high\")\n",
    "else:\n",
    "    print(\"just right\")"
   ]
  },
  {
   "cell_type": "markdown",
   "id": "87ec552a-4ed6-4302-879a-aca72a7c2f8e",
   "metadata": {},
   "source": [
    "2.**Assign the value 7 to the variable guess_me and the value 1 to the variable start. Write a while loop that compares start with guess_me. Print too low if start is less than guess me. If start equals guess_me, print 'found it!' and exit the loop. If start is greater than guess_me, print 'oops' and exit the loop. Increment start at the end of the loop.**"
   ]
  },
  {
   "cell_type": "code",
   "execution_count": 2,
   "id": "c5b3c9ba-18f9-4906-98ac-57f3553fadd2",
   "metadata": {},
   "outputs": [
    {
     "name": "stdout",
     "output_type": "stream",
     "text": [
      "too low\n",
      "too low\n",
      "too low\n",
      "too low\n",
      "too low\n",
      "too low\n",
      "found it!\n"
     ]
    }
   ],
   "source": [
    "guess_me = 7\n",
    "start = 1\n",
    "\n",
    "while True:\n",
    "    if start < guess_me:\n",
    "        print('too low')\n",
    "    elif start == guess_me:\n",
    "        print('found it!')\n",
    "        break\n",
    "    else:\n",
    "        print('oops')\n",
    "        break\n",
    "    start += 1"
   ]
  },
  {
   "cell_type": "markdown",
   "id": "0015c2e6-e2a7-4482-bdab-34d2159b7a48",
   "metadata": {},
   "source": [
    "3.**Print the following values of the list [3, 2, 1, 0] using a for loop.**"
   ]
  },
  {
   "cell_type": "code",
   "execution_count": 3,
   "id": "e5eb1b1f-5f66-43b4-b779-8d4878dbffc7",
   "metadata": {},
   "outputs": [
    {
     "name": "stdout",
     "output_type": "stream",
     "text": [
      "3\n",
      "2\n",
      "1\n",
      "0\n"
     ]
    }
   ],
   "source": [
    "l1 = [3, 2, 1, 0]\n",
    "for i in l1:\n",
    "    print(i)"
   ]
  },
  {
   "cell_type": "markdown",
   "id": "6c9604eb-77a8-4acd-867a-160666b37c66",
   "metadata": {},
   "source": [
    "4.**Use a list comprehension to make a list of the even numbers in range(10)**"
   ]
  },
  {
   "cell_type": "code",
   "execution_count": 4,
   "id": "4dd95e71-54f9-4312-818e-ac0e1ba15c68",
   "metadata": {},
   "outputs": [
    {
     "name": "stdout",
     "output_type": "stream",
     "text": [
      "[0, 2, 4, 6, 8]\n"
     ]
    }
   ],
   "source": [
    "l2 = [i for i in range(10) if i % 2 == 0]\n",
    "print(l2)"
   ]
  },
  {
   "cell_type": "markdown",
   "id": "657e7c98-56e2-42d2-ac80-7fcb669ae1d9",
   "metadata": {},
   "source": [
    "5.**Use a dictionary comprehension to create the dictionary squares. Use range(10) to return the keys, and use the square of each key as its value.**"
   ]
  },
  {
   "cell_type": "code",
   "execution_count": null,
   "id": "2baac2bb-828c-4df0-b75a-486ea104e209",
   "metadata": {},
   "outputs": [
    {
     "name": "stdout",
     "output_type": "stream",
     "text": [
      "{0: 0, 1: 1, 2: 4, 3: 9, 4: 16, 5: 25, 6: 36, 7: 49, 8: 64, 9: 81}\n"
     ]
    }
   ],
   "source": [
    "squares = {i: i * i for i in range(10)}\n",
    "print(squares)"
   ]
  },
  {
   "cell_type": "markdown",
   "id": "9d03b414-31d8-474d-ad69-f205d4d2f01d",
   "metadata": {},
   "source": [
    "6.**Construct the set odd from the odd numbers in the range using a set comprehension (10).**"
   ]
  },
  {
   "cell_type": "code",
   "execution_count": 14,
   "id": "6a76289c-9538-4cd7-91bb-8d85153b950c",
   "metadata": {},
   "outputs": [
    {
     "name": "stdout",
     "output_type": "stream",
     "text": [
      "{1, 3, 5, 7, 9}\n"
     ]
    }
   ],
   "source": [
    "odd = {i for i in range(10) if i % 2 == 1}\n",
    "print(odd)"
   ]
  },
  {
   "cell_type": "markdown",
   "id": "06983085-d47b-4dbf-9d40-fda1218ed73b",
   "metadata": {},
   "source": [
    "7.**Use a generator comprehension to return the string 'Got ' and a number for the numbers in range(10). Iterate through this by using a for loop.**"
   ]
  },
  {
   "cell_type": "code",
   "execution_count": 18,
   "id": "061eb19b-9f66-4d7a-82cc-e5390a4e262b",
   "metadata": {},
   "outputs": [
    {
     "name": "stdout",
     "output_type": "stream",
     "text": [
      "Got 0\n",
      "Got 1\n",
      "Got 2\n",
      "Got 3\n",
      "Got 4\n",
      "Got 5\n",
      "Got 6\n",
      "Got 7\n",
      "Got 8\n",
      "Got 9\n"
     ]
    }
   ],
   "source": [
    "l3 = ('Got ' + str(i) for i in range(10))\n",
    "for i in l3:\n",
    "    print(i)"
   ]
  },
  {
   "cell_type": "markdown",
   "id": "d3edef94-7f6e-4889-ad74-e59b6caf2cb8",
   "metadata": {},
   "source": [
    "8.**Define a function called good that returns the list ['Harry', 'Ron', 'Hermione'].**"
   ]
  },
  {
   "cell_type": "code",
   "execution_count": 19,
   "id": "4e0cd8cf-e353-43ab-b5ca-83c226dd55c9",
   "metadata": {},
   "outputs": [],
   "source": [
    "def good():\n",
    "    return ['Harry', 'Ron', 'Hermione']"
   ]
  },
  {
   "cell_type": "markdown",
   "id": "4b2a246b-c978-4c3d-8a02-f99f3fa0a0e8",
   "metadata": {},
   "source": [
    "9.**Define a generator function called get_odds that returns the odd numbers from range(10). Use a for loop to find and print the third value returned.**"
   ]
  },
  {
   "cell_type": "code",
   "execution_count": 30,
   "id": "503f9eda-0eba-4151-b2c1-389716b05ba5",
   "metadata": {},
   "outputs": [],
   "source": [
    "def get_odds():\n",
    "    for n in range(10): \n",
    "        if n % 2:\n",
    "            yield n"
   ]
  },
  {
   "cell_type": "code",
   "execution_count": 31,
   "id": "cf6a1c48-14d8-43ce-918c-45311a570ccd",
   "metadata": {},
   "outputs": [
    {
     "name": "stdout",
     "output_type": "stream",
     "text": [
      "1\n",
      "3\n",
      "5\n",
      "7\n",
      "9\n"
     ]
    }
   ],
   "source": [
    "for n in get_odds():\n",
    "    print(n)"
   ]
  },
  {
   "cell_type": "markdown",
   "id": "d6fdb8a5-cafc-4c38-b3e0-521c7a599084",
   "metadata": {},
   "source": [
    "10.**Define an exception called OopsException. Raise this exception to see what happens. Then write the code to catch this exception and print 'Caught an oops'.**"
   ]
  },
  {
   "cell_type": "code",
   "execution_count": 34,
   "id": "b57bfb41-f29d-44d1-b015-2d143172bed8",
   "metadata": {},
   "outputs": [
    {
     "ename": "OopsException",
     "evalue": "",
     "output_type": "error",
     "traceback": [
      "\u001b[1;31m---------------------------------------------------------------------------\u001b[0m",
      "\u001b[1;31mOopsException\u001b[0m                             Traceback (most recent call last)",
      "\u001b[1;32m~\\AppData\\Local\\Temp/ipykernel_11192/3164758304.py\u001b[0m in \u001b[0;36m<module>\u001b[1;34m\u001b[0m\n\u001b[0;32m      2\u001b[0m     \u001b[1;32mpass\u001b[0m\u001b[1;33m\u001b[0m\u001b[1;33m\u001b[0m\u001b[0m\n\u001b[0;32m      3\u001b[0m \u001b[1;33m\u001b[0m\u001b[0m\n\u001b[1;32m----> 4\u001b[1;33m \u001b[1;32mraise\u001b[0m \u001b[0mOopsException\u001b[0m\u001b[1;33m(\u001b[0m\u001b[1;33m)\u001b[0m\u001b[1;33m\u001b[0m\u001b[1;33m\u001b[0m\u001b[0m\n\u001b[0m",
      "\u001b[1;31mOopsException\u001b[0m: "
     ]
    }
   ],
   "source": [
    "class OopsException(Exception):\n",
    "    pass\n",
    "\n",
    "raise OopsException()"
   ]
  },
  {
   "cell_type": "code",
   "execution_count": 33,
   "id": "99d1a5c4-a15f-41b2-8d25-ab23364b3d64",
   "metadata": {},
   "outputs": [
    {
     "name": "stdout",
     "output_type": "stream",
     "text": [
      "Caught an oops\n"
     ]
    }
   ],
   "source": [
    "try:\n",
    "    raise OopsException\n",
    "except OopsException:\n",
    "    print('Caught an oops')"
   ]
  },
  {
   "cell_type": "markdown",
   "id": "15444022-3d65-4f6b-a5ed-7d6665d8ebee",
   "metadata": {},
   "source": [
    "11.**Use zip() to make a dictionary called movies that pairs these lists: titles = ['Creature of Habit', 'Crewel Fate'] and plots = ['A nun turns into a monster', 'A haunted yarn shop'].**"
   ]
  },
  {
   "cell_type": "code",
   "execution_count": 35,
   "id": "2bd0e39c-3c24-478e-83cf-0ee8888d3ff8",
   "metadata": {},
   "outputs": [],
   "source": [
    "titles = ['Creature of Habit', 'Crewel Fate']\n",
    "plots = ['A nun turns into a monster', 'A haunted yarn shop']\n",
    "\n",
    "movies = {}\n",
    "for title, plot in zip(titles, plots):\n",
    "    movies[title] = plot"
   ]
  },
  {
   "cell_type": "code",
   "execution_count": 37,
   "id": "7c26e497-0682-4579-bff1-e614cd87d191",
   "metadata": {},
   "outputs": [
    {
     "name": "stdout",
     "output_type": "stream",
     "text": [
      "{'Creature of Habit': 'A nun turns into a monster', 'Crewel Fate': 'A haunted yarn shop'}\n"
     ]
    }
   ],
   "source": [
    "print(movies)"
   ]
  }
 ],
 "metadata": {
  "kernelspec": {
   "display_name": "Python 3 (ipykernel)",
   "language": "python",
   "name": "python3"
  },
  "language_info": {
   "codemirror_mode": {
    "name": "ipython",
    "version": 3
   },
   "file_extension": ".py",
   "mimetype": "text/x-python",
   "name": "python",
   "nbconvert_exporter": "python",
   "pygments_lexer": "ipython3",
   "version": "3.9.7"
  }
 },
 "nbformat": 4,
 "nbformat_minor": 5
}
