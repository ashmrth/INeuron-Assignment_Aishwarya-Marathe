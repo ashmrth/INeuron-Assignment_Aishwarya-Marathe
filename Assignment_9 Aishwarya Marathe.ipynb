{
 "cells": [
  {
   "cell_type": "markdown",
   "id": "1f943f42-3491-49f6-9bdd-d78a0e4422ae",
   "metadata": {},
   "source": [
    "1. **To what does a relative path refer?**<br>\n",
    "\n",
    "Relative paths are relative to the current working directory."
   ]
  },
  {
   "cell_type": "markdown",
   "id": "d1ccbc3e-50eb-49fd-ab3c-40408ccc0b4f",
   "metadata": {},
   "source": [
    "2. **What does an absolute path start with your operating system?**\n",
    "\n",
    "Absolute paths start with the root folder, such as / or C:\\."
   ]
  },
  {
   "cell_type": "markdown",
   "id": "149cd2cf-2710-48e7-9e79-6f91e72d2432",
   "metadata": {},
   "source": [
    "3. **What do the functions os.getcwd() and os.chdir() do?**\n",
    "\n",
    "os.getcwd() - returns the current working directory.<br>\n",
    "os.chdir()  - changes the current working directory."
   ]
  },
  {
   "cell_type": "markdown",
   "id": "2c47b689-373a-46a3-b639-25da2eedc85d",
   "metadata": {},
   "source": [
    "4. **What are the . and .. folders?**\n",
    "\n",
    ". -> Current Folder <br>\n",
    ".. -> Parent Folder"
   ]
  },
  {
   "cell_type": "markdown",
   "id": "ec3c295a-56d9-4d76-ba84-cc32c586f79d",
   "metadata": {},
   "source": [
    "5. **In C:\\bacon\\eggs\\spam.txt, which part is the dir name, and which part is the base name?**\n",
    "\n",
    "C:\\bacon\\eggs -> dir name <br>\n",
    "spam.txt -> base name."
   ]
  },
  {
   "cell_type": "markdown",
   "id": "596872b0-d13d-457d-b6bc-7dc3b8487fc0",
   "metadata": {},
   "source": [
    "6. **What are the three “mode” arguments that can be passed to the open() function?**\n",
    "\n",
    "r -> Read <br>\n",
    "w -> Write <br>\n",
    "a -> Append"
   ]
  },
  {
   "cell_type": "markdown",
   "id": "cb4b3ef7-4d88-433d-a402-9787267a8189",
   "metadata": {},
   "source": [
    "7. **What happens if an existing file is opened in write mode?**<br>\n",
    "\n",
    "The file is erased and completely overwritten."
   ]
  },
  {
   "cell_type": "markdown",
   "id": "99063224-206b-4adc-ab6c-1b5019774660",
   "metadata": {},
   "source": [
    "8. **How do you tell the difference between read() and readlines()?**\n",
    "\n",
    "read() -> returns the file’s entire contents as a single string value.<br>\n",
    "readlines() -> returns a list of strings, where each string is a line from the file’s contents."
   ]
  },
  {
   "cell_type": "markdown",
   "id": "1f60bf6d-84ad-44a8-b6d5-5b570a8990c1",
   "metadata": {},
   "source": [
    "9. **What data structure does a shelf value resemble?**\n",
    "\n",
    "A shelf value resembles a dictionary value; it has keys and values, along with keys() and values() methods that work similarly to the dictionary methods of the same names."
   ]
  }
 ],
 "metadata": {
  "kernelspec": {
   "display_name": "Python 3 (ipykernel)",
   "language": "python",
   "name": "python3"
  },
  "language_info": {
   "codemirror_mode": {
    "name": "ipython",
    "version": 3
   },
   "file_extension": ".py",
   "mimetype": "text/x-python",
   "name": "python",
   "nbconvert_exporter": "python",
   "pygments_lexer": "ipython3",
   "version": "3.9.7"
  }
 },
 "nbformat": 4,
 "nbformat_minor": 5
}
