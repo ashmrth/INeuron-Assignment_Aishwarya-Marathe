{
 "cells": [
  {
   "cell_type": "markdown",
   "id": "00226d30-2ce6-423d-8ef6-3ab84c90acd5",
   "metadata": {},
   "source": [
    "1. **What are escape characters, and how do you use them?**<br>\n",
    "\n",
    "Escape characters represent characters in string values that would otherwise be difficult or impossible to type into code."
   ]
  },
  {
   "cell_type": "markdown",
   "id": "2be82329-a5a0-4979-a7c4-0ddf1e1b00d7",
   "metadata": {},
   "source": [
    "2. **What do the escape characters n and t stand for?**<br>\n",
    "\n",
    "n is for newline, t is a tab."
   ]
  },
  {
   "cell_type": "markdown",
   "id": "f1b8184c-6af7-456a-9f87-504f190329a9",
   "metadata": {},
   "source": [
    "3. **What is the way to include backslash characters in a string?**<br>\n",
    "\n",
    "The \\\\ escape character will represent a backslash character."
   ]
  },
  {
   "cell_type": "markdown",
   "id": "6a4ad1da-b0ac-4676-85a4-a2b1ab80ad65",
   "metadata": {},
   "source": [
    "4. **The string \"Howl's Moving Castle\" is a correct value. Why isn't the single quote character in the word Howl's not escaped a problem?**<br>\n",
    "\n",
    "The single quote in Howl's is fine because you’ve used double quotes to mark the beginning and end of the string."
   ]
  },
  {
   "cell_type": "markdown",
   "id": "f03c9c47-d690-46fa-822b-b73741c0cd92",
   "metadata": {},
   "source": [
    "5. **How do you write a string of newlines if you don't want to use the n character?**<br>\n",
    "\n",
    "Multiline strings(Strings starting and ending with triple quotes) allow you to use newlines in strings without the \\n escape character."
   ]
  },
  {
   "cell_type": "markdown",
   "id": "eec9a5bc-e4ce-4404-9d03-7bb2f5542431",
   "metadata": {},
   "source": [
    "6. **What are the values of the given expressions?**<br>\n",
    "\n",
    "    'Hello, world!'[1] &ensp;- **'e'** <br>\n",
    "    'Hello, world!'[0:5]&ensp;- **'hello'** <br>\n",
    "    'Hello, world!'[:5]&ensp;- **'hello'**<br>\n",
    "    'Hello, world!'[3:]&ensp;- **'lo, world'**<br>\n"
   ]
  },
  {
   "cell_type": "markdown",
   "id": "ea4813c8-d06e-402e-bc9a-47a3d8827bcc",
   "metadata": {},
   "source": [
    "7. **What are the values of the following expressions?**<br>\n",
    "\n",
    "    'Hello'.upper() &ensp; **'HELLO'**<br>\n",
    "    'Hello'.upper().isupper() &ensp;**True** <br>\n",
    "    'Hello'.upper().lower() &ensp; **'hello'**<br>\n"
   ]
  },
  {
   "cell_type": "markdown",
   "id": "1198b80a-64f9-4f4c-a100-c8507f780813",
   "metadata": {},
   "source": [
    "8. **What are the values of the following expressions?**<br>\n",
    "    **'Remember, remember, the fifth of November.'.split()** &ensp;- ['Remember,', 'remember,', 'the', 'fifth', 'of', 'November.'] <br>\n",
    "    **'-'.join('There can be only one.'.split())** &ensp; - 'There-can-be-only-one.'<br>\n",
    "\n",
    " \n",
    "    \n",
    "    'There-can-be-only-one.'\n"
   ]
  },
  {
   "cell_type": "code",
   "execution_count": null,
   "id": "404a7e1a-a7d7-4978-8fb9-8bd8072dd6c4",
   "metadata": {},
   "outputs": [],
   "source": []
  }
 ],
 "metadata": {
  "kernelspec": {
   "display_name": "Python 3 (ipykernel)",
   "language": "python",
   "name": "python3"
  },
  "language_info": {
   "codemirror_mode": {
    "name": "ipython",
    "version": 3
   },
   "file_extension": ".py",
   "mimetype": "text/x-python",
   "name": "python",
   "nbconvert_exporter": "python",
   "pygments_lexer": "ipython3",
   "version": "3.9.7"
  }
 },
 "nbformat": 4,
 "nbformat_minor": 5
}
