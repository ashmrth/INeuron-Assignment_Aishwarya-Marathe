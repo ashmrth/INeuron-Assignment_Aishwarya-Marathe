{
 "cells": [
  {
   "cell_type": "markdown",
   "id": "833c47d6-8d88-46f3-a4a2-3ddb176f4c04",
   "metadata": {},
   "source": [
    "1. **What does an empty dictionary's code look like?**<br>\n",
    "\n",
    "Two curly brackets: {}"
   ]
  },
  {
   "cell_type": "markdown",
   "id": "6a37d177-5aec-462f-ae6d-e83f2266f629",
   "metadata": {},
   "source": [
    "2. **What is the value of a dictionary value with the key 'foo' and the value 42?**\n",
    "\n",
    "{key : Value} = {foo : 42}"
   ]
  },
  {
   "cell_type": "markdown",
   "id": "890be950-29d1-47c5-9314-6935b0f62c48",
   "metadata": {},
   "source": [
    "3. **What is the most significant distinction between a dictionary and a list?**<br>\n",
    "\n",
    "Lists are ordered while Dictionary's are unordered. Dictionary's come with a key,value pair, while lists have individual values clubbed together."
   ]
  },
  {
   "cell_type": "markdown",
   "id": "d4d9e689-ed8c-442c-b3f4-140b834f3701",
   "metadata": {},
   "source": [
    "4. **What happens if you try to access spam['foo'] if spam is {'bar': 100}?**<br>\n",
    "\n",
    "You get a KeyError error. Since there is no key named 'foo'."
   ]
  },
  {
   "cell_type": "markdown",
   "id": "b68349db-e371-484a-b95d-355486e21e14",
   "metadata": {},
   "source": [
    "5. **If a dictionary is stored in spam, what is the difference between the expressions 'cat' in spam and 'cat' in spam.keys()?**<br>\n",
    "\n",
    "There is no difference. The 'in' operator checks whether a value exists as a key in the dictionary."
   ]
  },
  {
   "cell_type": "markdown",
   "id": "2a5fb2c7-dfa9-4868-9e35-9b02d38f7b5b",
   "metadata": {},
   "source": [
    "6. **If a dictionary is stored in spam, what is the difference between the expressions 'cat' in spam and 'cat' in spam.values()?**<br>\n",
    "\n",
    "'cat' in spam checks if there is a 'cat' key in the dictionary, while 'cat' in spam.values() checks if there is a value 'cat' for one of the keys in spam."
   ]
  },
  {
   "cell_type": "markdown",
   "id": "c8ab83bc-0bc2-46f7-9350-ca99ea44ec7f",
   "metadata": {},
   "source": [
    "7. **What is a shortcut for the following code?**<br>\n",
    "if 'color' not in spam:<br>\n",
    "&emsp; spam['color'] = 'black'<br>\n",
    "\n",
    "**spam.setdefault('color', 'black')**"
   ]
  },
  {
   "cell_type": "markdown",
   "id": "06f71f4a-4fb2-48a7-87f3-5b60fcf282f3",
   "metadata": {},
   "source": [
    "8. **How do you \"pretty print\" dictionary values using which module and function?**<br>\n",
    "\n",
    "pprint.pprint()"
   ]
  }
 ],
 "metadata": {
  "kernelspec": {
   "display_name": "Python 3 (ipykernel)",
   "language": "python",
   "name": "python3"
  },
  "language_info": {
   "codemirror_mode": {
    "name": "ipython",
    "version": 3
   },
   "file_extension": ".py",
   "mimetype": "text/x-python",
   "name": "python",
   "nbconvert_exporter": "python",
   "pygments_lexer": "ipython3",
   "version": "3.9.7"
  }
 },
 "nbformat": 4,
 "nbformat_minor": 5
}
