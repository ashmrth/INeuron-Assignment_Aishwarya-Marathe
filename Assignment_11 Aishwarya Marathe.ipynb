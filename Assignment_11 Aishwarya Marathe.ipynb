{
 "cells": [
  {
   "cell_type": "markdown",
   "id": "39f47d8c-7dc2-4640-b212-873dfd4ac401",
   "metadata": {},
   "source": [
    "1. **Create an assert statement that throws an AssertionError if the variable spam is a negative integer.**\n",
    "\n",
    "assert spam >= 0, 'The spam variable is less than 0.'"
   ]
  },
  {
   "cell_type": "markdown",
   "id": "40ead252-06a5-49cd-a63e-f8ed0a4b41ff",
   "metadata": {},
   "source": [
    "2. **Write an assert statement that triggers an AssertionError if the variables eggs and bacon contain strings that are the same as each other, even if their cases are different (that is, 'hello' and 'hello' are considered the same, and 'goodbye' and 'GOODbye' are also considered the same).**\n",
    "\n",
    "assert eggs.lower() != bacon.lower() 'The eggs and bacon variables are the same!', or <br>\n",
    "assert eggs.upper() != bacon.upper(), 'The eggs and bacon variables are the same!'"
   ]
  },
  {
   "cell_type": "markdown",
   "id": "7772002c-956b-4813-a9ca-842548401b8b",
   "metadata": {},
   "source": [
    "3. **Create an assert statement that throws an AssertionError every time.**\n",
    "\n",
    "assert False"
   ]
  },
  {
   "cell_type": "markdown",
   "id": "5964c085-ca92-4c1c-83f8-90f5dce8f2b2",
   "metadata": {},
   "source": [
    "4. **What are the two lines that must be present in your software in order to call logging.debug()?**\n",
    "\n",
    "import logging<br>\n",
    "logging.basicConfig(level=logging.DEBUG, format=' %(asctime)s - %(levelname)s -  %(message)s')"
   ]
  },
  {
   "cell_type": "markdown",
   "id": "da465efd-3463-4d02-8170-c97c679217c6",
   "metadata": {},
   "source": [
    "5. **What are the two lines that your program must have in order to have logging.debug() send a logging message to a file named programLog.txt?**\n",
    "\n",
    "To be able to send logging messages to a file named programLog.txt with logging.debug(), you must have these two lines at the start of your program:<br>"
   ]
  },
  {
   "cell_type": "code",
   "execution_count": 1,
   "id": "96c54750-8855-4eeb-9f42-0a9d8702a7e5",
   "metadata": {},
   "outputs": [],
   "source": [
    "import logging\n",
    ">>> logging.basicConfig(filename='programLog.txt', level=logging.DEBUG, format=' %(asctime)s -  %(levelname)s -  %(message)s')"
   ]
  },
  {
   "cell_type": "markdown",
   "id": "e21a7cb6-60fb-4be8-a5f4-764abeb00972",
   "metadata": {},
   "source": [
    "6. **What are the five levels of logging?**\n",
    "\n",
    "DEBUG, INFO, WARNING, ERROR, and CRITICAL"
   ]
  },
  {
   "cell_type": "markdown",
   "id": "ef7103b9-02c3-4a6b-8d3b-68211bdf52d0",
   "metadata": {},
   "source": [
    "7. **What line of code would you add to your software to disable all logging messages?**\n",
    "\n",
    "logging.disable(logging.CRITICAL)"
   ]
  },
  {
   "cell_type": "markdown",
   "id": "c2042894-5805-4c47-baee-bbbc862452ca",
   "metadata": {},
   "source": [
    "8. **Why is using logging messages better than using print() to display the same message?**<br>\n",
    "\n",
    "1.You can disable logging messages without removing the logging function calls.<br>\n",
    "2.You can selectively disable lower-level logging messages. <br>\n",
    "3.You can create logging messages.<br>\n",
    "4.Logging messages provides a timestamp."
   ]
  },
  {
   "cell_type": "markdown",
   "id": "68a38916-bd8d-4e8b-9614-1843b28d99e1",
   "metadata": {},
   "source": [
    "9. **What are the differences between the Step Over, Step In, and Step Out buttons in the debugger?**<br>\n",
    "\n",
    "Step over - execute the function call without stepping into it.<br>\n",
    "Step In - move the debugger into a function call.<br>\n",
    "Step Out - execute the rest of the code until it steps out of the function it currently is in."
   ]
  },
  {
   "cell_type": "code",
   "execution_count": null,
   "id": "3f913c89-3858-4a96-b465-a7cb4b542955",
   "metadata": {},
   "outputs": [],
   "source": [
    "10. After you click Continue, when will the debugger stop ?"
   ]
  }
 ],
 "metadata": {
  "kernelspec": {
   "display_name": "Python 3 (ipykernel)",
   "language": "python",
   "name": "python3"
  },
  "language_info": {
   "codemirror_mode": {
    "name": "ipython",
    "version": 3
   },
   "file_extension": ".py",
   "mimetype": "text/x-python",
   "name": "python",
   "nbconvert_exporter": "python",
   "pygments_lexer": "ipython3",
   "version": "3.9.7"
  }
 },
 "nbformat": 4,
 "nbformat_minor": 5
}
