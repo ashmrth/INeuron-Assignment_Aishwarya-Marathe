{
 "cells": [
  {
   "cell_type": "markdown",
   "id": "c4bb81c6-cdea-4c52-92c1-fd5ad83f0216",
   "metadata": {},
   "source": [
    "1. **What advantages do Excel spreadsheets have over CSV spreadsheets?**\n",
    "\n",
    "1.Spreadsheets can have values of data types other than strings.<br>\n",
    "2.Cells can have different fonts, sizes, or color settings; cells can have varying widths and heights.<br>\n",
    "3.Adjacent cells can be merged; and you can embed images and charts.<br>\n",
    "4.Excel is a binary file format that holds information for all workbooks, and it is used in all worksheets.<br>\n",
    "5.Excel can perform VBA Coding, functions, formulas and create summaries easily when compared to CSV.<br>\n",
    "6.Reading large data set is much easier for the end-user to read, comprehend and understand when compared to CSV.<br>\n",
    "7.Excel also provides the user option for external linking of data from other sources, and also, the user can do custom add-ins."
   ]
  },
  {
   "cell_type": "markdown",
   "id": "c4af5087-8f61-4994-addf-4526ef47c626",
   "metadata": {},
   "source": [
    "2. **What do you pass to csv.reader() and csv.writer() to create reader and writer objects?**\n",
    "\n",
    "Pass a File object, obtained from a call to open()"
   ]
  },
  {
   "cell_type": "markdown",
   "id": "29ac2d06-95fa-4ff3-a544-e2e8baa3a059",
   "metadata": {},
   "source": [
    "3. **What modes do File objects for reader and writer objects need to be opened in?**\n",
    "\n",
    "Read-binary ('rb') for reader and Write-binary ('wb') for writer objects."
   ]
  },
  {
   "cell_type": "markdown",
   "id": "223e3fb0-dda2-4887-80e0-75638f9f5159",
   "metadata": {},
   "source": [
    "4. **What method takes a list argument and writes it to a CSV file?**\n",
    "\n",
    "writerow()"
   ]
  },
  {
   "cell_type": "markdown",
   "id": "7828d9ca-8783-4852-b10a-49cf4d6f5bb8",
   "metadata": {},
   "source": [
    "5. **What do the keyword arguments delimiter and line terminator do?**\n",
    "\n",
    "delimiter - changes the string used to separate cells in a row.<br>\n",
    "lineterminator - changes the string used to separate rows."
   ]
  },
  {
   "cell_type": "markdown",
   "id": "e84a44bd-bdb4-4113-b6a7-697c82b9c29f",
   "metadata": {},
   "source": [
    "6. **What function takes a string of JSON data and returns a Python data structure?**\n",
    "\n",
    "json.loads()"
   ]
  },
  {
   "cell_type": "markdown",
   "id": "eec92c33-7457-4d7f-a1bc-d121f7ac85f9",
   "metadata": {},
   "source": [
    "7. **What function takes a Python data structure and returns a string of JSON data?**\n",
    "\n",
    "json.dumps()"
   ]
  }
 ],
 "metadata": {
  "kernelspec": {
   "display_name": "Python 3 (ipykernel)",
   "language": "python",
   "name": "python3"
  },
  "language_info": {
   "codemirror_mode": {
    "name": "ipython",
    "version": 3
   },
   "file_extension": ".py",
   "mimetype": "text/x-python",
   "name": "python",
   "nbconvert_exporter": "python",
   "pygments_lexer": "ipython3",
   "version": "3.9.7"
  }
 },
 "nbformat": 4,
 "nbformat_minor": 5
}
