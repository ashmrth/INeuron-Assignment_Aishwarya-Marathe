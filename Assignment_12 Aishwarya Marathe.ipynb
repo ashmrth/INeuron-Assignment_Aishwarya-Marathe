{
 "cells": [
  {
   "cell_type": "markdown",
   "id": "1793b40c-2548-4595-8f27-bda0a926f514",
   "metadata": {},
   "source": [
    "1. **In what modes should the PdfFileReader() and PdfFileWriter() File objects will be opened?**\n",
    "\n",
    "PdfFileReader() - Read-binary ('rb')<br>\n",
    "PdfFileWriter() - Write-binary ('wb')"
   ]
  },
  {
   "cell_type": "markdown",
   "id": "fc0dfc77-357e-4cbd-8287-f3ffd482a84f",
   "metadata": {},
   "source": [
    "2. **From a PdfFileReader object, how do you get a Page object for page 5?**\n",
    "\n",
    "getPage(4), since page 5 is on index 4."
   ]
  },
  {
   "cell_type": "markdown",
   "id": "e23c61e1-d9e6-4bd6-8b8a-38a79b6562ec",
   "metadata": {},
   "source": [
    "3. **What PdfFileReader variable stores the number of pages in the PDF document?**\n",
    "\n",
    "numPages"
   ]
  },
  {
   "cell_type": "markdown",
   "id": "5cbc246f-4087-4dc1-becc-bcce7c0a8f68",
   "metadata": {},
   "source": [
    "4. **If a PdfFileReader object’s PDF is encrypted with the password swordfish, what must you do before you can obtain Page objects from it?**\n",
    "\n",
    "Call decrypt('swordfish')."
   ]
  },
  {
   "cell_type": "markdown",
   "id": "aa2ddb4a-dd8d-44b4-af1d-565d43b980f7",
   "metadata": {},
   "source": [
    "5. **What methods do you use to rotate a page?**\n",
    "\n",
    "rotateClockwise() and rotateCounterClockwise(). The degrees to rotate is passed as an integer argument."
   ]
  },
  {
   "cell_type": "markdown",
   "id": "1d4dcf6a-25d1-4bae-9757-53039ee831b1",
   "metadata": {},
   "source": [
    "6. **What is the difference between a Run object and a Paragraph object?**\n",
    "\n",
    "A document contains multiple paragraphs. A paragraph begins on a new line and contains multiple runs. Runs are contiguous groups of characters within a paragraph."
   ]
  },
  {
   "cell_type": "markdown",
   "id": "e8aa4c25-112e-4454-9a18-2a2fce6234fa",
   "metadata": {},
   "source": [
    "7. **How do you obtain a list of Paragraph objects for a Document object that’s stored in a variable named doc?**\n",
    "\n",
    "Call doc.paragraphs"
   ]
  },
  {
   "cell_type": "markdown",
   "id": "f2af91fe-9083-407f-ab32-1a2c6aa3506a",
   "metadata": {},
   "source": [
    "8. **What type of object has bold, underline, italic, strike, and outline variables?**\n",
    "\n",
    "Run object"
   ]
  },
  {
   "cell_type": "markdown",
   "id": "bdf17cd7-a5a3-4ade-a5ef-f7e180772925",
   "metadata": {},
   "source": [
    "9. **What is the difference between False, True, and None for the bold variable?**\n",
    "\n",
    "True - Run Object always bolded<br>\n",
    "False - Run Object always not bolded<br>\n",
    "None - Default settings"
   ]
  },
  {
   "cell_type": "markdown",
   "id": "58c32f8e-aa54-4738-a6e2-c9f983b81515",
   "metadata": {},
   "source": [
    "10. **How do you create a Document object for a new Word document?**\n",
    "\n",
    "Call docx.Document()"
   ]
  },
  {
   "cell_type": "markdown",
   "id": "3a81ff54-204a-4e4c-a86d-b79fb37ad612",
   "metadata": {},
   "source": [
    "11. **How do you add a paragraph with the text 'Hello, there!' to a Document object stored in a variable named doc?**\n",
    "\n",
    "doc.add_paragraph('Hello there!')"
   ]
  },
  {
   "cell_type": "markdown",
   "id": "e87e1031-3285-45ba-8d44-c3111d80fba0",
   "metadata": {},
   "source": [
    "12. **What integers represent the levels of headings available in Word documents?**\n",
    "\n",
    "0, 1, 2, 3, and 4"
   ]
  }
 ],
 "metadata": {
  "kernelspec": {
   "display_name": "Python 3 (ipykernel)",
   "language": "python",
   "name": "python3"
  },
  "language_info": {
   "codemirror_mode": {
    "name": "ipython",
    "version": 3
   },
   "file_extension": ".py",
   "mimetype": "text/x-python",
   "name": "python",
   "nbconvert_exporter": "python",
   "pygments_lexer": "ipython3",
   "version": "3.9.7"
  }
 },
 "nbformat": 4,
 "nbformat_minor": 5
}
