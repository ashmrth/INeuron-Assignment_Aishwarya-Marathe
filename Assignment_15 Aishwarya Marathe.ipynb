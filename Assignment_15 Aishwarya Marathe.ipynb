{
 "cells": [
  {
   "cell_type": "markdown",
   "id": "a5e40ffe-ca06-4168-8983-1fef2e353f7c",
   "metadata": {},
   "source": [
    "1. **How many seconds are in an hour? Use the interactive interpreter as a calculator and multiply the number of seconds in a minute (60) by the number of minutes in an hour (also 60).**"
   ]
  },
  {
   "cell_type": "code",
   "execution_count": 1,
   "id": "c790fa81-87a3-47b7-8607-4ca6e4ec41c5",
   "metadata": {},
   "outputs": [
    {
     "data": {
      "text/plain": [
       "3600"
      ]
     },
     "execution_count": 1,
     "metadata": {},
     "output_type": "execute_result"
    }
   ],
   "source": [
    "seconds_per_min = 60\n",
    "minutes_per_hr = 60\n",
    "seconds_per_min*minutes_per_hr"
   ]
  },
  {
   "cell_type": "markdown",
   "id": "5436621e-e9be-44b7-a5e9-1e03841a2972",
   "metadata": {},
   "source": [
    "2. **Assign the result from the previous task (seconds in an hour) to a variable called seconds_per_hour.**"
   ]
  },
  {
   "cell_type": "code",
   "execution_count": 2,
   "id": "910a7e8e-c9c5-47dc-acb1-3898009f2551",
   "metadata": {},
   "outputs": [
    {
     "name": "stdout",
     "output_type": "stream",
     "text": [
      "3600\n"
     ]
    }
   ],
   "source": [
    "seconds_per_hour = seconds_per_min*minutes_per_hr\n",
    "print(seconds_per_hour)"
   ]
  },
  {
   "cell_type": "markdown",
   "id": "2a2fba13-d592-4fbd-87c4-8c6abd0720ec",
   "metadata": {},
   "source": [
    "3. **How many seconds do you think there are in a day? Make use of the variables seconds per hour and minutes per hour.**"
   ]
  },
  {
   "cell_type": "code",
   "execution_count": 3,
   "id": "21974040-2dda-4ca3-86e8-61fe82401aaf",
   "metadata": {},
   "outputs": [
    {
     "data": {
      "text/plain": [
       "86400"
      ]
     },
     "execution_count": 3,
     "metadata": {},
     "output_type": "execute_result"
    }
   ],
   "source": [
    "seconds_per_hour * 24"
   ]
  },
  {
   "cell_type": "markdown",
   "id": "56ff6d4c-63db-4258-b7c9-3402abead358",
   "metadata": {},
   "source": [
    "4. **Calculate seconds per day again, but this time save the result in a variable called seconds_per_day**"
   ]
  },
  {
   "cell_type": "code",
   "execution_count": 4,
   "id": "f8fd3053-85ef-4d9e-ad62-9ad3640bc02c",
   "metadata": {},
   "outputs": [
    {
     "name": "stdout",
     "output_type": "stream",
     "text": [
      "86400\n"
     ]
    }
   ],
   "source": [
    "seconds_per_day = seconds_per_hour*24\n",
    "print(seconds_per_day)"
   ]
  },
  {
   "cell_type": "markdown",
   "id": "ef06a427-6a0d-47ce-9485-e22a4e4fc81a",
   "metadata": {},
   "source": [
    "5. **Divide seconds_per_day by seconds_per_hour. Use floating-point (/) division.**"
   ]
  },
  {
   "cell_type": "code",
   "execution_count": 5,
   "id": "d2923bab-89ec-44d4-9dfb-e0669f1f675e",
   "metadata": {},
   "outputs": [
    {
     "data": {
      "text/plain": [
       "24.0"
      ]
     },
     "execution_count": 5,
     "metadata": {},
     "output_type": "execute_result"
    }
   ],
   "source": [
    "seconds_per_day / seconds_per_hour"
   ]
  },
  {
   "cell_type": "markdown",
   "id": "e6df6af4-8cc6-44fe-8166-cd1367557d02",
   "metadata": {},
   "source": [
    "6. **Divide seconds_per_day by seconds_per_hour, using integer (//) division. Did this number agree with the floating-point value from the previous question, aside from the final .0?**"
   ]
  },
  {
   "cell_type": "code",
   "execution_count": 6,
   "id": "26459434-4a12-42fd-96a1-d7798614bf4d",
   "metadata": {},
   "outputs": [
    {
     "data": {
      "text/plain": [
       "24"
      ]
     },
     "execution_count": 6,
     "metadata": {},
     "output_type": "execute_result"
    }
   ],
   "source": [
    "seconds_per_day // seconds_per_hour\n",
    "#same value as earlier without the decimal point"
   ]
  },
  {
   "cell_type": "markdown",
   "id": "71a34e41-1e9e-4efd-954c-67feae14bd2f",
   "metadata": {},
   "source": [
    "7. **Write a generator, genPrimes, that returns the sequence of prime numbers on successive calls to its next() method: 2, 3, 5, 7, 11, ...**"
   ]
  },
  {
   "cell_type": "code",
   "execution_count": 33,
   "id": "49dc6a33-ac90-4c1d-8093-d2e72a833adf",
   "metadata": {},
   "outputs": [],
   "source": [
    "def genPrimes():\n",
    "    primes = []   # primes generated so far\n",
    "    last = 1      # last number tried\n",
    "    while True:\n",
    "        last += 1\n",
    "        for p in primes:\n",
    "            if last % p == 0:\n",
    "                break\n",
    "        else:\n",
    "            primes.append(last)\n",
    "            yield last\n",
    "\n",
    "p = genPrimes()"
   ]
  },
  {
   "cell_type": "code",
   "execution_count": 34,
   "id": "f42e7c72-8b58-41ee-942c-13f69c315205",
   "metadata": {},
   "outputs": [
    {
     "data": {
      "text/plain": [
       "2"
      ]
     },
     "execution_count": 34,
     "metadata": {},
     "output_type": "execute_result"
    }
   ],
   "source": [
    "next(p)"
   ]
  },
  {
   "cell_type": "code",
   "execution_count": 35,
   "id": "5a50d74f-ba71-4200-aa2d-81ab461df65d",
   "metadata": {},
   "outputs": [
    {
     "data": {
      "text/plain": [
       "3"
      ]
     },
     "execution_count": 35,
     "metadata": {},
     "output_type": "execute_result"
    }
   ],
   "source": [
    "next(p)"
   ]
  },
  {
   "cell_type": "code",
   "execution_count": 36,
   "id": "068e184e-d7a4-4cca-8c5b-dbbe440c03fd",
   "metadata": {},
   "outputs": [
    {
     "data": {
      "text/plain": [
       "5"
      ]
     },
     "execution_count": 36,
     "metadata": {},
     "output_type": "execute_result"
    }
   ],
   "source": [
    "next(p)"
   ]
  },
  {
   "cell_type": "code",
   "execution_count": 37,
   "id": "4c3e423e-92dc-4072-9107-3647301583a6",
   "metadata": {},
   "outputs": [
    {
     "data": {
      "text/plain": [
       "7"
      ]
     },
     "execution_count": 37,
     "metadata": {},
     "output_type": "execute_result"
    }
   ],
   "source": [
    "next(p)"
   ]
  },
  {
   "cell_type": "code",
   "execution_count": 38,
   "id": "b44585d2-35d5-43fd-8bdf-aafa3695a3c6",
   "metadata": {},
   "outputs": [
    {
     "data": {
      "text/plain": [
       "11"
      ]
     },
     "execution_count": 38,
     "metadata": {},
     "output_type": "execute_result"
    }
   ],
   "source": [
    "next(p)"
   ]
  }
 ],
 "metadata": {
  "kernelspec": {
   "display_name": "Python 3 (ipykernel)",
   "language": "python",
   "name": "python3"
  },
  "language_info": {
   "codemirror_mode": {
    "name": "ipython",
    "version": 3
   },
   "file_extension": ".py",
   "mimetype": "text/x-python",
   "name": "python",
   "nbconvert_exporter": "python",
   "pygments_lexer": "ipython3",
   "version": "3.9.7"
  }
 },
 "nbformat": 4,
 "nbformat_minor": 5
}
