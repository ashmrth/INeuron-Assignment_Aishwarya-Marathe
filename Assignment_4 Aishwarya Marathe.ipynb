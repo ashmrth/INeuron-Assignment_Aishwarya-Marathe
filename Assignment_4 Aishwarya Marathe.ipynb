{
 "cells": [
  {
   "cell_type": "markdown",
   "id": "e304b5fa-ec48-4515-ba36-70a3b0622512",
   "metadata": {},
   "source": [
    "1. **What exactly is []?**<br>\n",
    "\n",
    "This is used to define a **list**. [] will return a list with no elements, aka, an empty list."
   ]
  },
  {
   "cell_type": "markdown",
   "id": "372a4069-0411-4d2d-89c6-902efaf6e437",
   "metadata": {},
   "source": [
    "2. **In a list of values stored in a variable called spam, how would you assign the value 'hello' as the third value? (Assume [2, 4, 6, 8, 10] are in spam.)**<br>\n",
    "\n",
    "Since the third value in the list comes on the index 2, we can assign the value by calling **spam[2] = 'hello'.**"
   ]
  },
  {
   "cell_type": "markdown",
   "id": "3e06832f-8525-491f-a676-7c6a7cada03b",
   "metadata": {},
   "source": [
    "<h2>Let's pretend the spam includes the list ['a','b','c','d'] for the next three queries."
   ]
  },
  {
   "cell_type": "markdown",
   "id": "82dd7126-3a59-4e00-a3ad-a8c0705ad047",
   "metadata": {},
   "source": [
    "3. **What is the value of spam[int(int('3' * 2) // 11)]?**<br>\n",
    "\n",
    "spam[int(int('3' * 2) // 11)]= spam[int(int('33') // 11)] = spam[int(33 // 11)] = spam[int(3)] = spam[3] = **'d'**"
   ]
  },
  {
   "cell_type": "markdown",
   "id": "9cd7a82b-d93a-4688-9fec-29f09723e6ca",
   "metadata": {},
   "source": [
    "4. **What is the value of spam[-1]?**<br>\n",
    "\n",
    "'d', since -1 is the index of the last value."
   ]
  },
  {
   "cell_type": "markdown",
   "id": "2827550e-c4af-4383-bbe3-1ab1517f3347",
   "metadata": {},
   "source": [
    "5. **What is the value of spam[:2]?**<br>\n",
    "\n",
    "spam[start:stop] = spam[:2] = ['a','b']"
   ]
  },
  {
   "cell_type": "markdown",
   "id": "f9df798f-458d-4eb6-a599-5f30a6eeb1d2",
   "metadata": {},
   "source": [
    "<h2>Let's pretend bacon has the list [3.14, 'cat,' 11, 'cat,' True] for the next three questions."
   ]
  },
  {
   "cell_type": "markdown",
   "id": "9fdadfe3-05cb-433d-b33a-7a9382efcc0a",
   "metadata": {},
   "source": [
    "6. **What is the value of bacon.index('cat')?**<br>\n",
    "\n",
    "Since cat is the second element, the value of bacon.index('cat') = 1."
   ]
  },
  {
   "cell_type": "markdown",
   "id": "8d6a4de9-98a3-49be-a25a-b2a37cad048a",
   "metadata": {},
   "source": [
    "7. **How does bacon.append(99) change the look of the list value in bacon?**<br>\n",
    "\n",
    "99 will be added at the end of the list bacon, i.e, bacon will become [3.14, 'cat,' 11, 'cat,' True, 99]"
   ]
  },
  {
   "cell_type": "markdown",
   "id": "02cf5696-c1f6-467a-a1ad-a1384c9860a9",
   "metadata": {},
   "source": [
    "8. **How does bacon.remove('cat') change the look of the list in bacon?**<br>\n",
    "\n",
    "It will remove the first 'cat' from the list, bacon will become [3.14, 11, 'cat', True]"
   ]
  },
  {
   "cell_type": "markdown",
   "id": "3647b5a6-fafd-4e57-bb9a-c5d6a07d87e5",
   "metadata": {},
   "source": [
    "9. **What are the list concatenation and list replication operators?**<br>\n",
    "\n",
    "Concatenation = '+'<br>\n",
    "Replication = '*'"
   ]
  },
  {
   "cell_type": "markdown",
   "id": "e3fd3081-56de-4263-82cc-4f428327fede",
   "metadata": {},
   "source": [
    "10. **What is difference between the list methods append() and insert()?** <br>\n",
    "\n",
    "append() - Adds value to the end of the list.<br>\n",
    "insert() - Index of the value to be added can be defined."
   ]
  },
  {
   "cell_type": "markdown",
   "id": "c346ef2f-0b5d-49da-bc16-734c134e9863",
   "metadata": {},
   "source": [
    "11. **What are the two methods for removing items from a list?**<br>\n",
    "\n",
    "items from a list can be removed using **del statement** and **remove function**."
   ]
  },
  {
   "cell_type": "markdown",
   "id": "ac8c30c0-79db-44c1-97dc-ff0a7e2ea35b",
   "metadata": {},
   "source": [
    "12. **Describe how list values and string values are identical.**\n",
    "\n",
    "Both lists and strings can be passed to len(), have indexes and slices, be used in for loops, be concatenated or replicated, and be used with the in and not in operators."
   ]
  },
  {
   "cell_type": "markdown",
   "id": "d25efb54-f2a1-4592-8bae-7dcfc2520017",
   "metadata": {},
   "source": [
    "13. **What's the difference between tuples and lists?**<br>\n",
    "\n",
    "Lists are mutable; they can have values added, removed, or changed. Tuples are immutable; they cannot be changed at all. Also, tuples are written using parentheses, ( and ), while lists use the square brackets, [ and ]."
   ]
  },
  {
   "cell_type": "markdown",
   "id": "7424c6b5-4c46-4ca9-998d-2e7acd114d50",
   "metadata": {},
   "source": [
    "14. **How do you type a tuple value that only contains the integer 42?**<br>\n",
    "\n",
    "(42,), if the comma is not used after 42, it will recognized as an integer and not a tuple."
   ]
  },
  {
   "cell_type": "markdown",
   "id": "f379a4c6-8727-4c50-be3b-1d85d7cda6e6",
   "metadata": {},
   "source": [
    "15. **How do you get a list value's tuple form? How do you get a tuple value's list form?**<br>\n",
    "\n",
    "Using the tuple() and list() function respectively."
   ]
  },
  {
   "cell_type": "markdown",
   "id": "b44dda71-420a-4287-849f-82fb8c96e151",
   "metadata": {},
   "source": [
    "16. **Variables that \"contain\" list values are not necessarily lists themselves. Instead, what do they contain?**<br>\n",
    "\n",
    "They contain references to list values."
   ]
  },
  {
   "cell_type": "markdown",
   "id": "08b46f6b-3a76-4af6-9293-4f2522d8b820",
   "metadata": {},
   "source": [
    "17. **How do you distinguish between copy.copy() and copy.deepcopy()?**<br>\n",
    "\n",
    "The copy.copy() function will do a shallow copy of a list, while the copy.deepcopy() function will do a deep copy of a list. That is, only copy.deepcopy() will duplicate any lists inside the list."
   ]
  }
 ],
 "metadata": {
  "kernelspec": {
   "display_name": "Python 3 (ipykernel)",
   "language": "python",
   "name": "python3"
  },
  "language_info": {
   "codemirror_mode": {
    "name": "ipython",
    "version": 3
   },
   "file_extension": ".py",
   "mimetype": "text/x-python",
   "name": "python",
   "nbconvert_exporter": "python",
   "pygments_lexer": "ipython3",
   "version": "3.9.7"
  }
 },
 "nbformat": 4,
 "nbformat_minor": 5
}
