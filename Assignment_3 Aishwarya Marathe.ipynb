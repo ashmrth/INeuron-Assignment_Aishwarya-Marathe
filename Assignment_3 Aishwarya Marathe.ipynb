{
 "cells": [
  {
   "cell_type": "markdown",
   "id": "67816bb1-74c7-4fb3-9249-3b9befa12f8d",
   "metadata": {},
   "source": [
    "1. **Why are functions advantageous to have in your programs?**<br>\n",
    "\n",
    "A function needs to be defined once and can be called in the description all the time. If a process needs to be repeated multiple times, we can  define a function and call them over and over again.This can make the program shorter by a huge margin and a change in function is far more easier than changing code individually over and over again."
   ]
  },
  {
   "cell_type": "markdown",
   "id": "23c96281-289b-42c1-9b13-22366c96bc3d",
   "metadata": {},
   "source": [
    "2. **When does the code in a function run: when it's specified or when it's called?**<br>\n",
    "\n",
    "A function when specified is only a text which can indicae where all the code will be run. Whereas, in case of a function call, the program does not go to the next line of code, but moves to the first line of the function."
   ]
  },
  {
   "cell_type": "markdown",
   "id": "667b2892-6b45-4b16-a413-20941fefeb14",
   "metadata": {},
   "source": [
    "3. **What statement creates a function?**\n",
    "\n",
    "def [function_name]"
   ]
  },
  {
   "cell_type": "markdown",
   "id": "f3cc2816-23d6-4afe-91ee-f00c0f26d17f",
   "metadata": {},
   "source": [
    "4. **What is the difference between a function and a function call?**<br>\n",
    "\n",
    "A function defines the processes to achieve a particular result while a function call is using this function to achive that task."
   ]
  },
  {
   "cell_type": "markdown",
   "id": "d49582c3-9966-4abe-8a13-05d27a524a04",
   "metadata": {},
   "source": [
    "5. **How many global scopes are there in a Python program? How many local scopes?**<br>\n",
    "\n",
    "Only one global scope<br>\n",
    "Total Number of Functions = Total Number of Local scopes"
   ]
  },
  {
   "cell_type": "markdown",
   "id": "59e14785-e958-4d53-88c9-71313b70b16e",
   "metadata": {},
   "source": [
    "6. **What happens to variables in a local scope when the function call returns?**<br>\n",
    "\n",
    "Variables in the local scope (Local Variables) get destroyed once the function call returns as the function call only returns the final value of the process."
   ]
  },
  {
   "cell_type": "markdown",
   "id": "03d09e61-f0d8-4e16-b3b2-ebcd387c40e2",
   "metadata": {},
   "source": [
    "7. **What is the concept of a return value? Is it possible to have a return value in an expression?**<br>\n",
    "\n",
    "A function needs to return some value post excecution, this is known as the return value. Yes, return value can be used in an expression. "
   ]
  },
  {
   "cell_type": "markdown",
   "id": "c06b40e0-2cef-4ac6-9100-2a13e13452f3",
   "metadata": {},
   "source": [
    "8. **If a function does not have a return statement, what is the return value of a call to that function?**<br>\n",
    "\n",
    "If a function doesn't have a return statement, it returns None"
   ]
  },
  {
   "cell_type": "markdown",
   "id": "3debb971-6963-44e3-98fd-58a05431a300",
   "metadata": {},
   "source": [
    "9. **How do you make a function variable refer to the global variable?**<br>\n",
    "\n",
    "We need to first declare the global variable outside the function and then call it in the function."
   ]
  },
  {
   "cell_type": "markdown",
   "id": "f300d2d6-fc7b-489c-863d-7a4a8d3ab2d3",
   "metadata": {},
   "source": [
    "10. **What is the data type of None?**<br>\n",
    "\n",
    "None has a data type of its own (NoneType)."
   ]
  },
  {
   "cell_type": "markdown",
   "id": "4fd17c27-629c-47ab-9ad3-36d8eb3227a2",
   "metadata": {},
   "source": [
    "11. **What does the sentence import areallyourpetsnamederic do?**<br>\n",
    "\n",
    "That import statement imports a module named areallyourpetsnamederic."
   ]
  },
  {
   "cell_type": "markdown",
   "id": "6ebe2166-b2c0-4e85-8403-98fbc04dfee2",
   "metadata": {},
   "source": [
    "12. **If you had a bacon() feature in a spam module, what would you call it after importing spam?**<br>\n",
    "\n",
    "spam.bacon()"
   ]
  },
  {
   "cell_type": "markdown",
   "id": "70c4ff6e-7bb9-423a-92fe-98870c6b4269",
   "metadata": {},
   "source": [
    "13. **What can you do to save a programme from crashing if it encounters an error?**<br>\n",
    "\n",
    "Place the line of code that might cause an error in a try clause. The try block lets you test a block of code for errors."
   ]
  },
  {
   "cell_type": "markdown",
   "id": "f1108c2f-c748-45b8-a393-dcca3db9c383",
   "metadata": {},
   "source": [
    "14. **What is the purpose of the try clause? What is the purpose of the except clause?**<br>\n",
    "\n",
    "The code that could potentially cause an error goes in the try clause. The code that executes if an error happens goes in the except clause."
   ]
  }
 ],
 "metadata": {
  "kernelspec": {
   "display_name": "Python 3 (ipykernel)",
   "language": "python",
   "name": "python3"
  },
  "language_info": {
   "codemirror_mode": {
    "name": "ipython",
    "version": 3
   },
   "file_extension": ".py",
   "mimetype": "text/x-python",
   "name": "python",
   "nbconvert_exporter": "python",
   "pygments_lexer": "ipython3",
   "version": "3.9.7"
  }
 },
 "nbformat": 4,
 "nbformat_minor": 5
}
