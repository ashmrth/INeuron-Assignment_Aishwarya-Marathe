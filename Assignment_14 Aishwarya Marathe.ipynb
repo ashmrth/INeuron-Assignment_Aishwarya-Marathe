{
 "cells": [
  {
   "cell_type": "markdown",
   "id": "25045df3-a722-49ed-bb0c-81f640d25460",
   "metadata": {},
   "source": [
    "1. **What does RGBA stand for?**\n",
    "\n",
    "An RGBA value is a tuple of 4 integers, each ranging from 0 to 255. The four integers correspond to the amount of red, green, blue, and alpha (transparency) in the color."
   ]
  },
  {
   "cell_type": "markdown",
   "id": "cedfafb9-c8b0-44cb-80b7-27347caa4391",
   "metadata": {},
   "source": [
    "2. **From the Pillow module, how do you get the RGBA value of any images?**\n",
    "\n",
    "A function call to ImageColor.getcolor('ImgFileName', 'RGBA') will return the RGBA value for that color."
   ]
  },
  {
   "cell_type": "markdown",
   "id": "e029d45b-f030-4f2d-b75f-08b1459fa9bc",
   "metadata": {},
   "source": [
    "3. **What is a box tuple, and how does it work?**\n",
    "\n",
    "A box tuple is a tuple value of four integers: the left-edge x-coordinate, the top-edge y-coordinate, the width, and the height, respectively. The box tuple represents all the pixels of the image."
   ]
  },
  {
   "cell_type": "markdown",
   "id": "b8f341e8-7e62-4a62-9d45-36679addf41e",
   "metadata": {},
   "source": [
    "4. **Use your image and load in notebook then, How can you find out the width and height of an Image object?**\n",
    "\n",
    "imageObj.size is a tuple of two integers, the width and the height."
   ]
  },
  {
   "cell_type": "markdown",
   "id": "76301baa-d335-4b15-a870-010bd3315e98",
   "metadata": {},
   "source": [
    "5. **What method would you call to get Image object for a 100×100 image, excluding the lower-left quarter of it?**\n",
    "\n",
    "imageObj.crop((0, 50, 50, 50))"
   ]
  },
  {
   "cell_type": "markdown",
   "id": "191e3232-0440-4d28-a9c8-f276f0034eb0",
   "metadata": {},
   "source": [
    "6. **After making changes to an Image object, how could you save it as an image file?"
   ]
  }
 ],
 "metadata": {
  "kernelspec": {
   "display_name": "Python 3 (ipykernel)",
   "language": "python",
   "name": "python3"
  },
  "language_info": {
   "codemirror_mode": {
    "name": "ipython",
    "version": 3
   },
   "file_extension": ".py",
   "mimetype": "text/x-python",
   "name": "python",
   "nbconvert_exporter": "python",
   "pygments_lexer": "ipython3",
   "version": "3.9.7"
  }
 },
 "nbformat": 4,
 "nbformat_minor": 5
}
