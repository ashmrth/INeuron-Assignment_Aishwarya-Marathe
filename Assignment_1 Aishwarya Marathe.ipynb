{
 "cells": [
  {
   "cell_type": "markdown",
   "id": "f6bb431a",
   "metadata": {
    "tags": []
   },
   "source": [
    "1. In the below elements which of them are values or an expression? eg:- values can be integer or string and expressions will be mathematical operators.\n",
    "\n",
    "- *- Expression\n",
    "- 'hello'- Expression\n",
    "- -87.8- Values\n",
    "- -- Expression\n",
    "- /- Expression\n",
    "- +- Expression\n",
    "- 6- Values"
   ]
  },
  {
   "cell_type": "markdown",
   "id": "d1ab4180",
   "metadata": {},
   "source": [
    "2. What is the difference between string and variable?<br>\n",
    "String - A combination or sequence of characters<br>\n",
    "Variable - It defines the referenceto an object, for eg a string can be assigned to a, b, c etc."
   ]
  },
  {
   "cell_type": "markdown",
   "id": "4255212e",
   "metadata": {},
   "source": [
    "3. Describe three different data types.<br>\n",
    "int - positive or negative whole numbers<br>\n",
    "float - positive or negative numbers with decimal points<br>\n",
    "char - Characters (alphabets)<br>"
   ]
  },
  {
   "cell_type": "markdown",
   "id": "5a230a30",
   "metadata": {},
   "source": [
    "4. What is an expression made up of? What do all expressions do?<br>\n",
    "An expression is a combination of variables, values, operators, and calls to functions. Expressions always need to be evaluated.<br>\n",
    "Expressions complete the functions indicated in them and provide a single value."
   ]
  },
  {
   "cell_type": "markdown",
   "id": "b8c73eb7",
   "metadata": {},
   "source": [
    "5. This assignment statements, like spam = 10. What is the difference between an expression and a statement?<br>\n",
    "Expression evaluates to a value and statement does what the statement says, i.e., no evaluation, only expression."
   ]
  },
  {
   "cell_type": "markdown",
   "id": "2fe954c2",
   "metadata": {},
   "source": [
    "6. After running the following code, what does the variable bacon contain?<br>\n",
    "bacon = 22<br>\n",
    "bacon + 1<br>\n",
    "\n",
    "Bacon will total into 23."
   ]
  },
  {
   "cell_type": "markdown",
   "id": "4fd7a87b",
   "metadata": {},
   "source": [
    "7. What should the values of the following two terms be?<br>\n",
    "'spam' + 'spamspam'<br>\n",
    "'spam' * 3<br>\n",
    "\n",
    "Both will have the same output - spamspamspam"
   ]
  },
  {
   "cell_type": "markdown",
   "id": "6fc21770",
   "metadata": {},
   "source": [
    "8. Why is eggs a valid variable name while 100 is invalid?<br>\n",
    "\n",
    "100 is a number which cannot be made into a variable. A variable consists of a alphabet or alphanumeric characters without space only."
   ]
  },
  {
   "cell_type": "markdown",
   "id": "b988fafd",
   "metadata": {},
   "source": [
    "9. What three functions can be used to get the integer, floating-point number, or string version of a value?<br>\n",
    "int(), float(),str()"
   ]
  },
  {
   "cell_type": "markdown",
   "id": "b9729b42",
   "metadata": {},
   "source": [
    "10. Why does this expression cause an error? How can you fix it?<br>\n",
    "'I have eaten ' + 99 + ' burritos.'<br>\n",
    "\n",
    "Concatenation of a string and a number cannot be done, in this case we can denote 99 as a string and the output will be generated. For eg,<br>\n",
    "'I have eaten ' + '99' + ' burritos.' = 'I have eaten 99 burritos.'"
   ]
  }
 ],
 "metadata": {
  "kernelspec": {
   "display_name": "Python 3 (ipykernel)",
   "language": "python",
   "name": "python3"
  },
  "language_info": {
   "codemirror_mode": {
    "name": "ipython",
    "version": 3
   },
   "file_extension": ".py",
   "mimetype": "text/x-python",
   "name": "python",
   "nbconvert_exporter": "python",
   "pygments_lexer": "ipython3",
   "version": "3.9.7"
  },
  "nbTranslate": {
   "displayLangs": [
    "*"
   ],
   "hotkey": "alt-t",
   "langInMainMenu": true,
   "sourceLang": "en",
   "targetLang": "fr",
   "useGoogleTranslate": true
  },
  "toc": {
   "base_numbering": 1,
   "nav_menu": {},
   "number_sections": true,
   "sideBar": true,
   "skip_h1_title": false,
   "title_cell": "Table of Contents",
   "title_sidebar": "Contents",
   "toc_cell": false,
   "toc_position": {},
   "toc_section_display": true,
   "toc_window_display": false
  },
  "varInspector": {
   "cols": {
    "lenName": 16,
    "lenType": 16,
    "lenVar": 40
   },
   "kernels_config": {
    "python": {
     "delete_cmd_postfix": "",
     "delete_cmd_prefix": "del ",
     "library": "var_list.py",
     "varRefreshCmd": "print(var_dic_list())"
    },
    "r": {
     "delete_cmd_postfix": ") ",
     "delete_cmd_prefix": "rm(",
     "library": "var_list.r",
     "varRefreshCmd": "cat(var_dic_list()) "
    }
   },
   "types_to_exclude": [
    "module",
    "function",
    "builtin_function_or_method",
    "instance",
    "_Feature"
   ],
   "window_display": false
  }
 },
 "nbformat": 4,
 "nbformat_minor": 5
}
