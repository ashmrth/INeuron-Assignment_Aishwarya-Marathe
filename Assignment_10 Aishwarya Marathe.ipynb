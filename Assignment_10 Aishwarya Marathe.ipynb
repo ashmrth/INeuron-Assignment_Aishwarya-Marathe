{
 "cells": [
  {
   "cell_type": "markdown",
   "id": "7e776be7-448f-44a6-8df8-265401385643",
   "metadata": {},
   "source": [
    "1. **How do you distinguish between shutil.copy() and shutil.copytree()?**\n",
    "\n",
    "shutil.copy() -> copy a single file <br>\n",
    "shutil.copytree() -> copy an entire folder, along with all its contents."
   ]
  },
  {
   "cell_type": "markdown",
   "id": "51690b27-7f52-427d-aa93-2fb203f41cc0",
   "metadata": {},
   "source": [
    "2. **What function is used to rename files??**\n",
    "\n",
    "The shutil.move() function is used for renaming files as well as moving them."
   ]
  },
  {
   "cell_type": "markdown",
   "id": "59899708-9a72-4fad-9c0e-d641d55bc5c9",
   "metadata": {},
   "source": [
    "3. **What is the difference between the delete functions in the send2trash and shutil modules?**\n",
    "\n",
    "send2trash -> move a file or folder to the recycle bin<br>\n",
    "shutil -> permanently delete files and folders"
   ]
  },
  {
   "cell_type": "markdown",
   "id": "e410dbeb-3117-40db-8e2f-bd9c95a58fc1",
   "metadata": {},
   "source": [
    "4. **ZipFile objects have a close() method just like File objects’ close() method. What ZipFile method is equivalent to File objects’ open() method?**\n",
    "\n",
    "zipfile.ZipFile() -> equivalent to the open() function; the first argument is the filename, and the second argument is the mode to open the ZIP file in (read, write, or append)."
   ]
  },
  {
   "cell_type": "markdown",
   "id": "4da09849-a8bb-4650-b016-e5a036d4762c",
   "metadata": {},
   "source": [
    "5. **Create a programme that searches a folder tree for files with a certain file extension (such as .pdf or .jpg). Copy these files from whatever location they are in to a new folder.**"
   ]
  },
  {
   "cell_type": "code",
   "execution_count": 8,
   "id": "f59e9c1d-7b78-4f5f-996c-501a179cdde9",
   "metadata": {},
   "outputs": [
    {
     "name": "stdout",
     "output_type": "stream",
     "text": [
      "Looking in D:\\INeuron\\Notes for files with extensions of .ipynb, .jpg\n",
      "Copying D:\\INeuron\\Notes\\Assignment_1 Aishwarya Marathe.ipynb to D:\\INeuron\\Test\n"
     ]
    }
   ],
   "source": [
    "import os, shutil\n",
    "\n",
    "def selectiveCopy(folder, extensions, destFolder):\n",
    "    folder = os.path.abspath(folder)\n",
    "    destFolder = os.path.abspath(destFolder)\n",
    "    print('Looking in', folder, 'for files with extensions of', ', '.join(extensions))\n",
    "    for foldername, subfolders, filenames in os.walk(folder):\n",
    "        for filename in filenames:\n",
    "            name, extension = os.path.splitext(filename)\n",
    "            if extension in extensions:\n",
    "                fileAbsPath = foldername + os.path.sep + filename\n",
    "                print('Copying', fileAbsPath, 'to', destFolder)\n",
    "                shutil.copy(fileAbsPath, destFolder)\n",
    "\n",
    "extensions = ['.ipynb', '.jpg']\n",
    "folder = 'Notes'\n",
    "destFolder = 'Test'\n",
    "selectiveCopy(folder, extensions, destFolder)"
   ]
  }
 ],
 "metadata": {
  "kernelspec": {
   "display_name": "Python 3 (ipykernel)",
   "language": "python",
   "name": "python3"
  },
  "language_info": {
   "codemirror_mode": {
    "name": "ipython",
    "version": 3
   },
   "file_extension": ".py",
   "mimetype": "text/x-python",
   "name": "python",
   "nbconvert_exporter": "python",
   "pygments_lexer": "ipython3",
   "version": "3.9.7"
  }
 },
 "nbformat": 4,
 "nbformat_minor": 5
}
