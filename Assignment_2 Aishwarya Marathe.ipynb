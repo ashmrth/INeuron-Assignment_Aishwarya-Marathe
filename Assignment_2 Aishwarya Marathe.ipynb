{
 "cells": [
  {
   "cell_type": "markdown",
   "id": "c38424e2-6d86-4c21-bdd5-021718eec11d",
   "metadata": {},
   "source": [
    "1. **What are the two values of the Boolean data type? How do you write them?**<br>\n",
    "True & False"
   ]
  },
  {
   "cell_type": "markdown",
   "id": "cf8aa03f-7d7f-4fef-9a26-c3341a68edc3",
   "metadata": {},
   "source": [
    "2. **What are the three different types of Boolean operators?**<br>\n",
    "AND, OR, and NOT"
   ]
  },
  {
   "cell_type": "markdown",
   "id": "ff1fa57e-4859-4bac-8342-787ec17a8c8d",
   "metadata": {},
   "source": [
    "3. **Make a list of each Boolean operator's truth tables (i.e. every possible combination of Boolean values for the operator and what it evaluate ).**<br>\n",
    "\n",
    "Condition 1 (X)  | Condition 2 (Y) | NOT X | X AND Y | X OR Y\n",
    "------------- | -------------| -------------| -------------| -------------\n",
    "False  | False| True| False| False\n",
    "False  | True| True| False| True\n",
    "True  | False| False| False| True\n",
    "True  | True| False| True| True"
   ]
  },
  {
   "cell_type": "markdown",
   "id": "815de5e0-0220-464d-8d70-31a4ad2f0d05",
   "metadata": {},
   "source": [
    "4. **What are the values of the following expressions?**<br>\n",
    "(5 > 4) and (3 == 5) = True and False = **False** <br>\n",
    "not (5 > 4) = not(True) = **False** <br>\n",
    "(5 > 4) or (3 == 5) = True or False = **True**<br>\n",
    "not ((5 > 4) or (3 == 5)) = not (True or False) = not (True) = **False**<br>\n",
    "(True and True) and (True == False) = True and False = **False**<br>\n",
    "(not False) or (not True) = True or False = **True**<br>"
   ]
  },
  {
   "cell_type": "markdown",
   "id": "85cc8d5f-ccdc-46a3-be79-654f137ef4a9",
   "metadata": {},
   "source": [
    "5. **What are the six comparison operators?** <br>\n",
    "\n",
    "Symbol  | Description \n",
    "------------- | -------------| \n",
    "==  | Equal to| \n",
    "!=  | Not Equal to| \n",
    "<  | Less Than| \n",
    "<=  | Less Than Equal to|\n",
    ".>  | Greater Than| \n",
    ".>=  | Greater Than equal to| "
   ]
  },
  {
   "cell_type": "markdown",
   "id": "3a339093-8a79-483a-ac29-1e9081cb16f0",
   "metadata": {},
   "source": [
    "6. **How do you tell the difference between the equal to and assignment operators?Describe a condition and when you would use one.**<br>\n",
    "= - this is used when we need to assin a value to the variable.<br>\n",
    "== - this is a mathematical operator used to check if the values are absolutely equal to each other.<br>"
   ]
  },
  {
   "cell_type": "markdown",
   "id": "2d651c12-784f-4e18-8b09-fc5f174a53e0",
   "metadata": {},
   "source": [
    "7. **Identify the three blocks in this code:**<br>\n",
    "**Block 1**<br>\n",
    "spam = 0<br>\n",
    "if spam == 10:<br>\n",
    "&emsp;print('eggs')<br>\n",
    "**Block 2**<br>\n",
    "if spam &gt; 5:<br>\n",
    "&emsp;print('bacon')<br>\n",
    "**Block 3**<br>\n",
    "else:<br>\n",
    "&emsp;print('ham')<br>\n",
    "&emsp;print('spam')<br>\n",
    "&emsp;print('spam')<br>"
   ]
  },
  {
   "cell_type": "markdown",
   "id": "9a9da231-c383-4045-a116-22a547e53cd4",
   "metadata": {},
   "source": [
    "8. **Write code that prints Hello if 1 is stored in spam, prints Howdy if 2 is stored in spam, and prints Greetings! if anything else is stored in spam.**"
   ]
  },
  {
   "cell_type": "code",
   "execution_count": 7,
   "id": "957d2325-7214-407b-b793-465a23526685",
   "metadata": {},
   "outputs": [
    {
     "name": "stdin",
     "output_type": "stream",
     "text": [
      " 1\n"
     ]
    },
    {
     "name": "stdout",
     "output_type": "stream",
     "text": [
      "Hello\n"
     ]
    }
   ],
   "source": [
    "spam = int(input()) #please modify number as required\n",
    "if spam == 1:\n",
    "    print('Hello')\n",
    "elif spam == 2:\n",
    "    print('Howdy')\n",
    "else:\n",
    "    print('Greetings!')"
   ]
  },
  {
   "cell_type": "markdown",
   "id": "74b8e855-ffda-4749-bf01-110d27a7f28b",
   "metadata": {},
   "source": [
    "9. **If your programme is stuck in an endless loop, what keys you’ll press?**<br>\n",
    "Either press **I** twice, or use the ■ icon above to stop the kernel"
   ]
  },
  {
   "cell_type": "markdown",
   "id": "23280465-1fe5-4000-b609-41e0e1554127",
   "metadata": {},
   "source": [
    "10. **How can you tell the difference between break and continue?**<br>\n",
    "Break - The user exits from the loop.<br>\n",
    "Continue - The code does not stop and continues to the next loop"
   ]
  },
  {
   "cell_type": "markdown",
   "id": "9a83aca9-5b5a-496b-8f46-d8b32ae062ae",
   "metadata": {},
   "source": [
    "11. **In a for loop, what is the difference between range(10), range(0, 10), and range(0, 10, 1)?**<br>\n",
    "**range(10)** - The variable will be assigned 0-9<br>\n",
    "**range(0,10)** - The variable will be assigned 0-10<br>\n",
    "**range(0, 10, 1)** - The variable will be assigned 0-9.<br>"
   ]
  },
  {
   "cell_type": "markdown",
   "id": "2d4fe78b-e0db-4d11-a37e-e9d4d46f82cc",
   "metadata": {},
   "source": [
    "12. **Write a short program that prints the numbers 1 to 10 using a for loop. Then write an equivalent program that prints the numbers 1 to 10 using a while loop.**"
   ]
  },
  {
   "cell_type": "code",
   "execution_count": 26,
   "id": "c2dc68d0-4569-49bd-9a52-1f533bc44384",
   "metadata": {},
   "outputs": [
    {
     "name": "stdout",
     "output_type": "stream",
     "text": [
      "1 2 3 4 5 6 7 8 9 10 \n",
      "0\n",
      "1\n",
      "2\n",
      "3\n",
      "4\n",
      "5\n",
      "6\n",
      "7\n",
      "8\n",
      "9\n",
      "10\n"
     ]
    }
   ],
   "source": [
    "#for loop\n",
    "for i in range(1,11):\n",
    "    print(i, end=\" \")\n",
    "print()\n",
    "#while loop\n",
    "\n",
    "while(a<=10):\n",
    "    print(a)\n",
    "    a += 1"
   ]
  },
  {
   "cell_type": "markdown",
   "id": "bb59922d-e6e4-4b2c-bf59-422a8faf6a27",
   "metadata": {},
   "source": [
    "13. **If you had a function named bacon() inside a module named spam, how would you call it after importing spam?**<br>\n",
    "spam.bacon()"
   ]
  }
 ],
 "metadata": {
  "kernelspec": {
   "display_name": "Python 3 (ipykernel)",
   "language": "python",
   "name": "python3"
  },
  "language_info": {
   "codemirror_mode": {
    "name": "ipython",
    "version": 3
   },
   "file_extension": ".py",
   "mimetype": "text/x-python",
   "name": "python",
   "nbconvert_exporter": "python",
   "pygments_lexer": "ipython3",
   "version": "3.9.7"
  }
 },
 "nbformat": 4,
 "nbformat_minor": 5
}
