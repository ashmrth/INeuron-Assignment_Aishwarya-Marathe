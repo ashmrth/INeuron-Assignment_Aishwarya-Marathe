{
 "cells": [
  {
   "cell_type": "markdown",
   "id": "9e0949b7-8939-42b7-a00c-4764a0a3f1ae",
   "metadata": {},
   "source": [
    "1. **Is the Python Standard Library included with PyInputPlus?**<br>\n",
    "\n",
    "No. PyInputPlus is a third-party module and doesn’t come with the Python Standard Library."
   ]
  },
  {
   "cell_type": "markdown",
   "id": "c0c6f5ac-5095-497b-b93e-4fe629c12f41",
   "metadata": {},
   "source": [
    "2. **Why is PyInputPlus commonly imported with import pyinputplus as pypi?**<br>\n",
    "\n",
    "It reduces the size of the function call from pyinputplus.inputStr() to pyip.inputStr()."
   ]
  },
  {
   "cell_type": "markdown",
   "id": "81c4fb80-8859-49fc-80c7-a35a1a50c64e",
   "metadata": {},
   "source": [
    "3. **How do you distinguish between inputInt() and inputFloat()?**<br>\n",
    "\n",
    "The inputInt() function returns an int value, while the inputFloat() function returns a float value. This is the difference between returning 4 and 4.0."
   ]
  },
  {
   "cell_type": "markdown",
   "id": "f627edbf-0d1a-443f-8af7-d522ccf6c150",
   "metadata": {},
   "source": [
    "4. **Using PyInputPlus, how do you ensure that the user enters a whole number between 0 and 99?**<br>\n",
    "\n",
    "pyip.inputint(min=0, max=99)"
   ]
  },
  {
   "cell_type": "markdown",
   "id": "cc17f086-4213-4739-8501-adca33af8215",
   "metadata": {},
   "source": [
    "5. **What is transferred to the keyword arguments allowRegexes and blockRegexes?**<br>\n",
    "\n",
    "A list of regex strings that are either explicitly allowed or denied"
   ]
  },
  {
   "cell_type": "markdown",
   "id": "4b9b2c59-4884-4a60-922f-5bfdae8be8b3",
   "metadata": {},
   "source": [
    "6. **If a blank input is entered three times, what does inputStr(limit=3) do?**<br>\n",
    "\n",
    "The function will raise RetryLimitException."
   ]
  },
  {
   "cell_type": "markdown",
   "id": "a58af993-3c2f-4d01-ae80-ca7a9f2477b5",
   "metadata": {},
   "source": [
    "7. If blank input is entered three times, what does inputStr(limit=3, default='hello') do?**"
   ]
  }
 ],
 "metadata": {
  "kernelspec": {
   "display_name": "Python 3 (ipykernel)",
   "language": "python",
   "name": "python3"
  },
  "language_info": {
   "codemirror_mode": {
    "name": "ipython",
    "version": 3
   },
   "file_extension": ".py",
   "mimetype": "text/x-python",
   "name": "python",
   "nbconvert_exporter": "python",
   "pygments_lexer": "ipython3",
   "version": "3.9.7"
  }
 },
 "nbformat": 4,
 "nbformat_minor": 5
}
