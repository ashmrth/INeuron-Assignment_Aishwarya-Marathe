{
 "cells": [
  {
   "cell_type": "markdown",
   "id": "a10bc17f-3a2d-49cf-a84e-569639c6155c",
   "metadata": {},
   "source": [
    "1. **What is the name of the feature responsible for generating Regex objects?**<br>\n",
    "\n",
    "re.compile()"
   ]
  },
  {
   "cell_type": "markdown",
   "id": "ede9a49d-f68d-4bb9-bcb8-4efa55ab185f",
   "metadata": {},
   "source": [
    "2. **Why do raw strings often appear in Regex objects?**<br>\n",
    "\n",
    "Raw strings are used so that backslashes do not have to be escaped."
   ]
  },
  {
   "cell_type": "markdown",
   "id": "0fac282a-496e-4bf5-850f-81069c8b92ce",
   "metadata": {},
   "source": [
    "3. **What is the return value of the search() method?**<br>\n",
    "\n",
    "It returns Match objects."
   ]
  },
  {
   "cell_type": "markdown",
   "id": "d6399386-47aa-4e09-af3f-06b39c40ef54",
   "metadata": {},
   "source": [
    "4. **From a Match item, how do you get the actual strings that match the pattern?**<br>\n",
    "\n",
    "The group() method returns strings of the matched text."
   ]
  },
  {
   "cell_type": "markdown",
   "id": "cc992114-6bd7-4917-9f40-95a5532e425a",
   "metadata": {},
   "source": [
    "5. **In the regex which created from the r'(\\d\\d\\d)-(\\d\\d\\d-\\d\\d\\d\\d)', what does group zero cover? Group 2? Group 1?**<br>\n",
    "\n",
    "Group 0 is the entire match, <br>\n",
    "group 1 covers - first set of brackets, and <br>\n",
    "group 2 covers the second set of brackets<br>"
   ]
  },
  {
   "cell_type": "markdown",
   "id": "bcf4daec-7ed8-47c3-81b1-9261fff8adf9",
   "metadata": {},
   "source": [
    "6. **In standard expression syntax, parentheses and intervals have distinct meanings. How can you tell a regex that you want it to fit real parentheses and periods?**<br>\n",
    "\n",
    "Intervals and parentheses can be escaped with a backslash: \\., \\(, and \\)"
   ]
  },
  {
   "cell_type": "markdown",
   "id": "6f3a33fc-8180-4c26-b096-844c4e8f311c",
   "metadata": {},
   "source": [
    "7. **The findall() method returns a string list or a list of string tuples. What causes it to return one of the two options?**<br>\n",
    "\n",
    "If the regex has no groups, a list of strings is returned. If the regex has groups, a list of tuples of strings is returned."
   ]
  },
  {
   "cell_type": "markdown",
   "id": "56d3b32b-d743-49d4-a32f-10bf236dc7da",
   "metadata": {},
   "source": [
    "8. **In standard expressions, what does the | character mean?**<br>\n",
    "\n",
    "The | character signifies matching “either, or” between two groups."
   ]
  },
  {
   "cell_type": "markdown",
   "id": "af9cf9b1-33d0-4ceb-9675-820e53f91124",
   "metadata": {},
   "source": [
    "9. **In regular expressions, what does the character stand for?**<br>\n",
    "\n",
    "No Character indicated in the question. Ither than +,* & |, ? remains. The ? character can either mean “match zero or one of the preceding group” or be used to signify non-greedy matching."
   ]
  },
  {
   "cell_type": "markdown",
   "id": "bc09fa84-c2e6-4ac5-9242-27987acb52d3",
   "metadata": {},
   "source": [
    "10. **In regular expressions, what is the difference between the + and * characters?**<br>\n",
    "\n",
    "The + matches one or more. The * matches zero or more."
   ]
  },
  {
   "cell_type": "markdown",
   "id": "5903b556-521e-4df0-ba97-61a0271ca40b",
   "metadata": {},
   "source": [
    "11. **What is the difference between {4} and {4,5} in regular expression?**<br>\n",
    "\n",
    "The {4} matches exactly four instances of the preceding group. The {4,5} matches between four and five instances."
   ]
  },
  {
   "cell_type": "markdown",
   "id": "b6dbe9fb-a326-461a-9396-3e30a329dc1d",
   "metadata": {},
   "source": [
    "12. **What do you mean by the \\d, \\w, and \\s shorthand character classes signify in regular expressions?**<br>\n",
    "\n",
    "The shorthand character classes match<br>\n",
    "\\d - single digit, <br>\n",
    "\\w - word,<br>\n",
    "\\s - space character<br>"
   ]
  },
  {
   "cell_type": "markdown",
   "id": "0e5fc491-d244-4985-a8c9-ada64488d3ab",
   "metadata": {},
   "source": [
    "13. **What do means by \\D, \\W, and \\S shorthand character classes signify in regular expressions?**<br>\n",
    "\n",
    "The shorthand character classes match<br>\n",
    "\\D - not a single digit, <br>\n",
    "\\W - not a word,<br>\n",
    "\\S - not a space character<br>"
   ]
  },
  {
   "cell_type": "markdown",
   "id": "c1020f25-99de-40e3-a1ff-43ab49aecd18",
   "metadata": {},
   "source": [
    "14. **What is the difference between .*? and .*?**<br>\n",
    "\n",
    "The .* performs a greedy match (as many repetitions of the quantified pattern as possible. ), and <br>\n",
    "the .*? performs a non-greedy match. (as few repetitions of the quantified pattern as possible.)<br>"
   ]
  },
  {
   "cell_type": "markdown",
   "id": "ff6823c5-922b-49a8-b2c5-a2a84a58d43e",
   "metadata": {},
   "source": [
    "15. **What is the syntax for matching both numbers and lowercase letters with a character class?** <br>\n",
    "\n",
    "Either [0-9a-z] or [a-z0-9]"
   ]
  },
  {
   "cell_type": "markdown",
   "id": "2a6d6e41-d565-4269-b061-5bf28c582589",
   "metadata": {},
   "source": [
    "17. **What does the . character normally match? What does it match if re.DOTALL is passed as 2nd argument in re.compile()?**<br>\n",
    "\n",
    "The . character normally matches any character except the newline character. <br>\n",
    "If re.DOTALL is passed as the second argument to re.compile(), then the dot will also match newline characters.<br>"
   ]
  },
  {
   "cell_type": "markdown",
   "id": "36dc85e7-a922-4e94-a803-e84df9f3c183",
   "metadata": {},
   "source": [
    "18. **If numRegex = re.compile(r'\\d+'), what will numRegex.sub('X', '11 drummers, 10 pipers, five rings, 4 hen') return?**<br>\n",
    "\n",
    "The sub() call will return the string 'X drummers, X pipers, five rings, X hen'."
   ]
  },
  {
   "cell_type": "markdown",
   "id": "d7f880ad-acbc-44e2-a40b-2117b3d9da6d",
   "metadata": {},
   "source": [
    "19. **What does passing re.VERBOSE as the 2nd argument to re.compile() allow to do?**<br>\n",
    "\n",
    "The re.VERBOSE argument allows you to add whitespace and comments to the string passed to re.compile()."
   ]
  },
  {
   "cell_type": "markdown",
   "id": "26ec51ca-dbbe-40a5-903b-149f78e697b0",
   "metadata": {},
   "source": [
    "20. **How would you write a regex that match a number with comma for every three digits? It must match the given following:**<br>\n",
    "\n",
    "'42'<br>\n",
    "'1,234'<br>\n",
    "'6,368,745'<br>\n",
    "\n",
    "**but not the following:**<br>\n",
    "\n",
    " '12,34,567' (which has only two digits between the commas)<br>\n",
    " '1234' (which lacks commas)<br>\n",
    "\n",
    "**re.compile(r'^\\d{1,3}(,\\d{3})*$')**"
   ]
  },
  {
   "cell_type": "markdown",
   "id": "d23dc2b9-cfae-4f04-9c3f-c5a66f1dfbd0",
   "metadata": {},
   "source": [
    "21. **How would you write a regex that matches the full name of someone whose last name is Watanabe? You can assume that the first name that comes before it will always be one word that begins with a capital letter. The regex must match the following:**<br>\n",
    "'Haruto Watanabe'<br>\n",
    "'Alice Watanabe'<br>\n",
    "'RoboCop Watanabe'<br>\n",
    "\n",
    "**but not the following:**<br>\n",
    "\n",
    "'haruto Watanabe' (where the first name is not capitalized)<br>\n",
    "'Mr. Watanabe' (where the preceding word has a nonletter character)<br>\n",
    "'Watanabe' (which has no first name)<br>\n",
    "'Haruto watanabe' (where Watanabe is not capitalized)<br>\n",
    "\n",
    "\n",
    "Answer - re.compile(r'[A-Z][a-z]*\\sWatanabe')"
   ]
  },
  {
   "cell_type": "markdown",
   "id": "400ffff2-3b7b-44a5-baa1-0efdd9d016f7",
   "metadata": {},
   "source": [
    "22. **How would you write a regex that matches a sentence where the first word is either Alice, Bob, or Carol; the second word is either eats, pets, or throws; the third word is apples, cats, or baseballs; and the sentence ends with a period? This regex should be case-insensitive. It must match the following:**<br>\n",
    "\n",
    "'Alice eats apples.'<br>\n",
    "'Bob pets cats.'<br>\n",
    "'Carol throws baseballs.'<br>\n",
    "'Alice throws Apples.'<br>\n",
    "'BOB EATS CATS.'<br>\n",
    "\n",
    "**but not the following:**<br>\n",
    "\n",
    "'RoboCop eats apples.'<br>\n",
    "'ALICE THROWS FOOTBALLS.'<br>\n",
    "'Carol eats 7 cats.'<br>\n",
    "\n",
    "**re.compile(r'(Alice|Bob|Carol)\\s(eats|pets|throws)\\s(apples|cats|baseballs)\\.', re.IGNORECASE)**"
   ]
  },
  {
   "cell_type": "code",
   "execution_count": null,
   "id": "6f1cc601-2c95-422e-abf7-6ba37c383956",
   "metadata": {},
   "outputs": [],
   "source": []
  }
 ],
 "metadata": {
  "kernelspec": {
   "display_name": "Python 3 (ipykernel)",
   "language": "python",
   "name": "python3"
  },
  "language_info": {
   "codemirror_mode": {
    "name": "ipython",
    "version": 3
   },
   "file_extension": ".py",
   "mimetype": "text/x-python",
   "name": "python",
   "nbconvert_exporter": "python",
   "pygments_lexer": "ipython3",
   "version": "3.9.7"
  }
 },
 "nbformat": 4,
 "nbformat_minor": 5
}
